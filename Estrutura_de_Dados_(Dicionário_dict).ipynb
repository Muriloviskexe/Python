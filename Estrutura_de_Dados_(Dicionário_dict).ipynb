{
  "nbformat": 4,
  "nbformat_minor": 0,
  "metadata": {
    "colab": {
      "provenance": [],
      "authorship_tag": "ABX9TyPGEXAbR/SlEWQ06QLQdSnt",
      "include_colab_link": true
    },
    "kernelspec": {
      "name": "python3",
      "display_name": "Python 3"
    },
    "language_info": {
      "name": "python"
    }
  },
  "cells": [
    {
      "cell_type": "markdown",
      "metadata": {
        "id": "view-in-github",
        "colab_type": "text"
      },
      "source": [
        "<a href=\"https://colab.research.google.com/github/Muriloviskexe/Python/blob/main/Estrutura_de_Dados_(Dicion%C3%A1rio_dict).ipynb\" target=\"_parent\"><img src=\"https://colab.research.google.com/assets/colab-badge.svg\" alt=\"Open In Colab\"/></a>"
      ]
    },
    {
      "cell_type": "code",
      "execution_count": 5,
      "metadata": {
        "colab": {
          "base_uri": "https://localhost:8080/"
        },
        "id": "5WC7A2N4GuY9",
        "outputId": "238843c1-b318-4df7-abd2-628ce5ee1ff7"
      },
      "outputs": [
        {
          "output_type": "stream",
          "name": "stdout",
          "text": [
            "João\n",
            "30\n"
          ]
        }
      ],
      "source": [
        "# Criando e Acessando Valores em um Dicionário\n",
        "\n",
        "dicionario = {\n",
        "    \"nome\": \"João\",\n",
        "    \"idade\": 30,\n",
        "    \"cidade\": \"São Paulo\"\n",
        "  }\n",
        "\n",
        "print(dicionario[\"nome\"])\n",
        "print(dicionario[\"idade\"])\n",
        "\n",
        "# print(dicionario[\"email\"])"
      ]
    },
    {
      "cell_type": "code",
      "source": [
        "# Adicionando e Modificando Valores em um Dicionário\n",
        "\n",
        "pessoa = {\n",
        "    \"nome\": \"Maria\",\n",
        "    \"idade\": 25,\n",
        "    \"cidade\": \"Rio de Janeiro\"\n",
        "}\n",
        "print(pessoa)\n",
        "\n",
        "pessoa[\"email\"] = \"maria@example.com\"\n",
        "print(pessoa)\n",
        "\n",
        "pessoa[\"idade\"] = 26\n",
        "print(pessoa)\n"
      ],
      "metadata": {
        "colab": {
          "base_uri": "https://localhost:8080/"
        },
        "id": "uVfQ3vaZHU-U",
        "outputId": "3e438cfe-1c1a-4a32-f816-cbc46c0c7c04"
      },
      "execution_count": 8,
      "outputs": [
        {
          "output_type": "stream",
          "name": "stdout",
          "text": [
            "{'nome': 'Maria', 'idade': 25, 'cidade': 'Rio de Janeiro'}\n",
            "{'nome': 'Maria', 'idade': 25, 'cidade': 'Rio de Janeiro', 'email': 'maria@example.com'}\n",
            "{'nome': 'Maria', 'idade': 26, 'cidade': 'Rio de Janeiro', 'email': 'maria@example.com'}\n"
          ]
        }
      ]
    },
    {
      "cell_type": "code",
      "source": [
        "# Removendo Elementos de um Dicionário\n",
        "\n",
        "pessoa = {\n",
        "    \"nome\": \"Carlos\",\n",
        "    \"idade\": 40,\n",
        "    \"cidade\": \"Curitiba\"\n",
        "}\n",
        "print(pessoa)\n",
        "\n",
        "del pessoa[\"cidade\"]\n",
        "print(pessoa)\n",
        "\n",
        "idade = pessoa.pop(\"idade\")\n",
        "print(idade)\n",
        "print(pessoa)\n",
        "\n",
        "pessoa.clear()\n",
        "print(pessoa)"
      ],
      "metadata": {
        "colab": {
          "base_uri": "https://localhost:8080/"
        },
        "id": "LJt4NOiTHkg4",
        "outputId": "bea99ed6-609f-4444-be62-f8599303d4f3"
      },
      "execution_count": 12,
      "outputs": [
        {
          "output_type": "stream",
          "name": "stdout",
          "text": [
            "{'nome': 'Carlos', 'idade': 40, 'cidade': 'Curitiba'}\n",
            "{'nome': 'Carlos', 'idade': 40}\n",
            "40\n",
            "{'nome': 'Carlos'}\n",
            "{}\n"
          ]
        }
      ]
    },
    {
      "cell_type": "code",
      "source": [
        "# Iterando sobre um Dicionário\n",
        "\n",
        "carro = {\n",
        "    \"marca\": \"Ford\",\n",
        "    \"modelo\": \"Mustang\",\n",
        "    \"ano\": 1964\n",
        "}\n",
        "\n",
        "for chave in carro:\n",
        "    print(chave)\n",
        "\n",
        "for valor in carro.values():\n",
        "  print(valor)\n",
        "\n",
        "for chave, valor in carro.items():\n",
        "  print(f'{chave}: {valor}')\n",
        "\n",
        "\n"
      ],
      "metadata": {
        "colab": {
          "base_uri": "https://localhost:8080/"
        },
        "id": "JjpKQvjYH7WM",
        "outputId": "03174748-3b06-4cc3-a3b2-aea3ca575d1d"
      },
      "execution_count": 18,
      "outputs": [
        {
          "output_type": "stream",
          "name": "stdout",
          "text": [
            "marca\n",
            "modelo\n",
            "ano\n",
            "Ford\n",
            "Mustang\n",
            "1964\n",
            "marca: Ford\n",
            "modelo: Mustang\n",
            "ano: 1964\n"
          ]
        }
      ]
    },
    {
      "cell_type": "code",
      "source": [
        "# Verificando a Existência de uma Chave\n",
        "\n",
        "fruta = {\n",
        "    \"nome\": \"Maçã\",\n",
        "    \"cor\": \"Vermelha\",\n",
        "    \"sabor\": \"Doce\"\n",
        "}\n",
        "\n",
        "print(\"nome\" in fruta)\n",
        "print(\"preço\" in fruta)"
      ],
      "metadata": {
        "colab": {
          "base_uri": "https://localhost:8080/"
        },
        "id": "-H_D2Vb3JBSl",
        "outputId": "81778305-2714-4303-94de-f2f6a6a4454a"
      },
      "execution_count": 20,
      "outputs": [
        {
          "output_type": "stream",
          "name": "stdout",
          "text": [
            "True\n",
            "False\n"
          ]
        }
      ]
    },
    {
      "cell_type": "code",
      "source": [
        "# Dicionários Aninhados\n",
        "\n",
        "alunos = {\n",
        "    \"aluno1\": {\n",
        "        \"nome\": \"Ana\",\n",
        "        \"idade\": 22,\n",
        "        \"curso\": \"Engenharia\"\n",
        "    },\n",
        "    \"aluno2\": {\n",
        "        \"nome\": \"Bruno\",\n",
        "        \"idade\": 24,\n",
        "        \"curso\": \"Medicina\"\n",
        "    }\n",
        "}\n",
        "print(alunos[\"aluno1\"][\"curso\"])\n",
        "print(alunos[\"aluno2\"][\"curso\"])\n"
      ],
      "metadata": {
        "colab": {
          "base_uri": "https://localhost:8080/"
        },
        "id": "kNTNbV51JI7m",
        "outputId": "818a17f6-05f5-44ef-8352-3154b6620dbe"
      },
      "execution_count": 24,
      "outputs": [
        {
          "output_type": "stream",
          "name": "stdout",
          "text": [
            "Engenharia\n",
            "Medicina\n"
          ]
        }
      ]
    },
    {
      "cell_type": "code",
      "source": [
        "# Usando o Método get para Acessar Valores\n",
        "\n",
        "produto = {\n",
        "    \"nome\": \"Cadeira\",\n",
        "    \"preço\": 100.0\n",
        "}\n",
        "\n",
        "print(produto.get(\"nome\"))\n",
        "\n",
        "print(produto.get(\"cor\"))\n",
        "\n",
        "print(produto.get(\"cor\", \"Desconhecido\"))"
      ],
      "metadata": {
        "colab": {
          "base_uri": "https://localhost:8080/"
        },
        "id": "GX1WqIouJT9f",
        "outputId": "bf951b9b-c8f5-4e74-8984-9d9f88779deb"
      },
      "execution_count": 26,
      "outputs": [
        {
          "output_type": "stream",
          "name": "stdout",
          "text": [
            "Cadeira\n",
            "None\n",
            "Desconhecido\n"
          ]
        }
      ]
    },
    {
      "cell_type": "code",
      "source": [
        "# Mesclando Dois Dicionários\n",
        "\n",
        "dicionario1 = {\n",
        "    \"a\": 1,\n",
        "    \"b\": 2\n",
        "}\n",
        "\n",
        "dicionario2 = {\n",
        "    \"b\": 3,\n",
        "    \"c\": 4\n",
        "}\n",
        "\n",
        "dicionario_mesclado = dicionario1 | dicionario2\n",
        "print(dicionario_mesclado)\n",
        "\n",
        "dicionario1.update(dicionario2)\n",
        "print(dicionario1)"
      ],
      "metadata": {
        "colab": {
          "base_uri": "https://localhost:8080/"
        },
        "id": "Z6vh-fhTJfjw",
        "outputId": "1a02eecb-f716-4cb7-ccaf-34737c38ab93"
      },
      "execution_count": 28,
      "outputs": [
        {
          "output_type": "stream",
          "name": "stdout",
          "text": [
            "{'a': 1, 'b': 3, 'c': 4}\n",
            "{'a': 1, 'b': 3, 'c': 4}\n"
          ]
        }
      ]
    },
    {
      "cell_type": "code",
      "source": [],
      "metadata": {
        "id": "p-AJ68bMJ1vf"
      },
      "execution_count": null,
      "outputs": []
    }
  ]
}