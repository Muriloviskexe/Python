{
  "nbformat": 4,
  "nbformat_minor": 0,
  "metadata": {
    "colab": {
      "provenance": [],
      "authorship_tag": "ABX9TyN+LwIoIMPFkZhdCzIX+gwE",
      "include_colab_link": true
    },
    "kernelspec": {
      "name": "python3",
      "display_name": "Python 3"
    },
    "language_info": {
      "name": "python"
    }
  },
  "cells": [
    {
      "cell_type": "markdown",
      "metadata": {
        "id": "view-in-github",
        "colab_type": "text"
      },
      "source": [
        "<a href=\"https://colab.research.google.com/github/Muriloviskexe/Python/blob/main/Untitled0.ipynb\" target=\"_parent\"><img src=\"https://colab.research.google.com/assets/colab-badge.svg\" alt=\"Open In Colab\"/></a>"
      ]
    },
    {
      "cell_type": "code",
      "execution_count": 6,
      "metadata": {
        "colab": {
          "base_uri": "https://localhost:8080/"
        },
        "id": "wFJB7L5BToUe",
        "outputId": "79c3b1d9-cc8f-4308-c3c2-b9166a737b20"
      },
      "outputs": [
        {
          "output_type": "stream",
          "name": "stdout",
          "text": [
            "deque(['A', 'B', 'C'])\n",
            "A\n",
            "deque(['B', 'C'])\n",
            "B\n",
            "deque(['C'])\n",
            "C\n"
          ]
        }
      ],
      "source": [
        "#Fila (queue)\n",
        "\n",
        "from collections import deque\n",
        "\n",
        "fila = deque()\n",
        "fila.append('A')\n",
        "fila.append('B')\n",
        "fila.append('C')\n",
        "\n",
        "print(fila)\n",
        "\n",
        "frente = fila.popleft()\n",
        "print(frente)\n",
        "print(fila)\n",
        "\n",
        "frente = fila.popleft()\n",
        "print(frente)\n",
        "print(fila)\n",
        "\n",
        "print(fila[0])"
      ]
    },
    {
      "cell_type": "code",
      "source": [
        "# Verificando se a Fila Está Vazia\n",
        "\n",
        "from collections import deque\n",
        "\n",
        "fila = deque()\n",
        "\n",
        "fila.append(10)\n",
        "fila.append(20)\n",
        "\n",
        "fila.popleft()\n",
        "fila.popleft()\n",
        "\n",
        "if not fila:\n",
        "    print('A fila está vazia')\n",
        "else:\n",
        "    print('A fila não está vazia')\n"
      ],
      "metadata": {
        "colab": {
          "base_uri": "https://localhost:8080/"
        },
        "id": "znKtVv5kVG4h",
        "outputId": "968af34d-ef22-4362-c945-459738cea7a1"
      },
      "execution_count": 10,
      "outputs": [
        {
          "output_type": "stream",
          "name": "stdout",
          "text": [
            "A fila está vazia\n"
          ]
        }
      ]
    },
    {
      "cell_type": "code",
      "source": [
        "# Implementando uma Fila com Limite de Tamanho\n",
        "\n",
        "from collections import deque\n",
        "\n",
        "class Fila:\n",
        "    def __init__ (self, limite):\n",
        "      self.fila = deque()\n",
        "      self.limite = limite\n",
        "\n",
        "    def enqueue(self, item):\n",
        "      if len(self.fila) >= self.limite:\n",
        "        print('Erro: Fila cheia!')\n",
        "        return None\n",
        "      else:\n",
        "        self.fila.append(item)\n",
        "\n",
        "    def dequeue(self):\n",
        "      if len(self.fila) <= 0:\n",
        "        print('a fila ta vaiza!')\n",
        "        return None\n",
        "      else:\n",
        "        return self.fila.popleft()\n",
        "\n",
        "    def is_empty(self):\n",
        "      return len(self.fila) == 0\n",
        "\n",
        "    def is_full(self):\n",
        "      return len(self.fila) == self.limite\n",
        "\n",
        "    def size(self):\n",
        "      return len(self.fila)\n",
        "\n",
        "# Exemplo de uso\n",
        "fila = Fila(limite=4)\n",
        "fila.enqueue(1)\n",
        "fila.enqueue(2)\n",
        "fila.enqueue(3)\n",
        "fila.enqueue(4)\n",
        "\n",
        "print(fila.size())\n",
        "\n",
        "fila.dequeue()\n",
        "print(fila.size())"
      ],
      "metadata": {
        "colab": {
          "base_uri": "https://localhost:8080/"
        },
        "id": "gIplSAYPVsiP",
        "outputId": "993cef66-2fd2-48d8-eed4-e34ee9ad74ee"
      },
      "execution_count": 19,
      "outputs": [
        {
          "output_type": "stream",
          "name": "stdout",
          "text": [
            "Tem espaço na fila\n",
            "Tem espaço na fila\n",
            "Tem espaço na fila\n",
            "Tem espaço na fila\n",
            "4\n",
            "3\n"
          ]
        }
      ]
    },
    {
      "cell_type": "code",
      "source": [
        "from collections import deque\n",
        "\n",
        "# Criando uma fila de atendimento\n",
        "fila_atendimento = deque()\n",
        "\n",
        "# Clientes chegam e são adicionados à fila\n",
        "fila_atendimento.append(\"Cliente 1\")\n",
        "fila_atendimento.append(\"Cliente 2\")\n",
        "fila_atendimento.append(\"Cliente 3\")\n",
        "\n",
        "# Atendendo os clientes na ordem de chegada\n",
        "atendido = fila_atendimento.popleft()\n",
        "print(f\"{atendido} foi atendido.\")  # Mostra \"Cliente 1 foi atendido.\"\n",
        "\n",
        "atendido = fila_atendimento.popleft()\n",
        "print(f\"{atendido} foi atendido.\")  # Mostra \"Cliente 2 foi atendido.\"\n",
        "\n",
        "# Mostrando o estado atual da fila\n",
        "print(fila_atendimento)  # Mostra \"deque(['Cliente 3'])\""
      ],
      "metadata": {
        "colab": {
          "base_uri": "https://localhost:8080/"
        },
        "id": "Qt8Q2gW4Wap6",
        "outputId": "aa64e86b-70b0-4258-bd14-25960d22f411"
      },
      "execution_count": 20,
      "outputs": [
        {
          "output_type": "stream",
          "name": "stdout",
          "text": [
            "Cliente 1 foi atendido.\n",
            "Cliente 2 foi atendido.\n",
            "deque(['Cliente 3'])\n"
          ]
        }
      ]
    },
    {
      "cell_type": "code",
      "source": [
        "from collections import deque\n",
        "\n",
        "# Criando uma fila com limite\n",
        "fila_circular = deque(maxlen=3)\n",
        "\n",
        "# Adicionando elementos na fila\n",
        "fila_circular.append(1)\n",
        "fila_circular.append(2)\n",
        "fila_circular.append(3)\n",
        "print(fila_circular)  # Mostra \"deque([1, 2, 3], maxlen=3)\"\n",
        "\n",
        "# Adicionando um quarto elemento (isso remove o primeiro)\n",
        "fila_circular.append(4)\n",
        "print(fila_circular)  # Mostra \"deque([2, 3, 4], maxlen=3)\"\n",
        "\n",
        "# Adicionando outro elemento (isso remove o segundo)\n",
        "fila_circular.append(5)\n",
        "print(fila_circular)  # Mostra \"deque([3, 4, 5], maxlen=3)\""
      ],
      "metadata": {
        "id": "nJGKkOINYe1-",
        "outputId": "eb8055ab-21cc-4c69-ccb6-cbcaf6951188",
        "colab": {
          "base_uri": "https://localhost:8080/"
        }
      },
      "execution_count": 21,
      "outputs": [
        {
          "output_type": "stream",
          "name": "stdout",
          "text": [
            "deque([1, 2, 3], maxlen=3)\n",
            "deque([2, 3, 4], maxlen=3)\n",
            "deque([3, 4, 5], maxlen=3)\n"
          ]
        }
      ]
    },
    {
      "cell_type": "code",
      "source": [
        "from collections import deque\n",
        "\n",
        "# Criando uma fila\n",
        "fila = deque([1, 2, 3, 4, 5])\n",
        "\n",
        "# Revertendo a fila\n",
        "fila.reverse()\n",
        "print(fila)  # Mostra \"deque([5, 4, 3, 2, 1])\""
      ],
      "metadata": {
        "id": "z152gst_YfyL",
        "outputId": "a0ca85c2-11cf-4763-ad77-43f3fadfed1e",
        "colab": {
          "base_uri": "https://localhost:8080/"
        }
      },
      "execution_count": 22,
      "outputs": [
        {
          "output_type": "stream",
          "name": "stdout",
          "text": [
            "deque([5, 4, 3, 2, 1])\n"
          ]
        }
      ]
    },
    {
      "cell_type": "code",
      "source": [
        "import queue\n",
        "\n",
        "# Criando uma fila de prioridade\n",
        "fila_prioridade = queue.PriorityQueue()\n",
        "\n",
        "# Adicionando elementos na fila com prioridade (menor número = maior prioridade)\n",
        "fila_prioridade.put((1, \"Tarefa crítica\"))\n",
        "fila_prioridade.put((3, \"Tarefa menor\"))\n",
        "fila_prioridade.put((2, \"Tarefa importante\"))\n",
        "\n",
        "# Removendo elementos da fila de acordo com a prioridade\n",
        "while not fila_prioridade.empty():\n",
        "    prioridade, tarefa = fila_prioridade.get()\n",
        "    print(f\"{tarefa} com prioridade {prioridade}\")\n",
        "# Mostra:\n",
        "# Tarefa crítica com prioridade 1\n",
        "# Tarefa importante com prioridade 2\n",
        "# Tarefa menor com prioridade 3"
      ],
      "metadata": {
        "id": "GTFmra2kYg6q",
        "outputId": "bb70466f-1035-4df9-816f-cce4ba2fe6bf",
        "colab": {
          "base_uri": "https://localhost:8080/"
        }
      },
      "execution_count": 23,
      "outputs": [
        {
          "output_type": "stream",
          "name": "stdout",
          "text": [
            "Tarefa crítica com prioridade 1\n",
            "Tarefa importante com prioridade 2\n",
            "Tarefa menor com prioridade 3\n"
          ]
        }
      ]
    },
    {
      "cell_type": "code",
      "source": [],
      "metadata": {
        "id": "3vggRJ1xYjIX"
      },
      "execution_count": null,
      "outputs": []
    }
  ]
}
