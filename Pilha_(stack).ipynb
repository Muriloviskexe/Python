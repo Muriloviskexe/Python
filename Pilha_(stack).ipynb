{
  "nbformat": 4,
  "nbformat_minor": 0,
  "metadata": {
    "colab": {
      "provenance": [],
      "authorship_tag": "ABX9TyOKgZaVj8UnpiHG1Ryf0R02",
      "include_colab_link": true
    },
    "kernelspec": {
      "name": "python3",
      "display_name": "Python 3"
    },
    "language_info": {
      "name": "python"
    }
  },
  "cells": [
    {
      "cell_type": "markdown",
      "metadata": {
        "id": "view-in-github",
        "colab_type": "text"
      },
      "source": [
        "<a href=\"https://colab.research.google.com/github/Muriloviskexe/Python/blob/main/Pilha_(stack).ipynb\" target=\"_parent\"><img src=\"https://colab.research.google.com/assets/colab-badge.svg\" alt=\"Open In Colab\"/></a>"
      ]
    },
    {
      "cell_type": "code",
      "execution_count": 9,
      "metadata": {
        "colab": {
          "base_uri": "https://localhost:8080/"
        },
        "id": "l9tR-mMxQNxQ",
        "outputId": "027c4f3a-1294-49b4-93db-245b9017d507"
      },
      "outputs": [
        {
          "output_type": "stream",
          "name": "stdout",
          "text": [
            "[1, 2, 3, 4, 5]\n",
            "5\n",
            "[1, 2, 3, 4]\n",
            "4\n",
            "[1, 2, 3]\n",
            "3\n",
            "[1, 2]\n",
            "2\n",
            "[1]\n",
            "1\n"
          ]
        }
      ],
      "source": [
        "#Implementando uma Pilha Simples Usando Listas\n",
        "\n",
        "pilha = []\n",
        "\n",
        "pilha.append(1)\n",
        "pilha.append(2)\n",
        "pilha.append(3)\n",
        "pilha.append(4)\n",
        "pilha.append(5)\n",
        "\n",
        "print(pilha)\n",
        "\n",
        "topo = pilha.pop()\n",
        "print(topo)\n",
        "print(pilha)\n",
        "\n",
        "topo = pilha.pop()\n",
        "print(topo)\n",
        "print(pilha)\n",
        "\n",
        "topo = pilha.pop()\n",
        "print(topo)\n",
        "print(pilha)\n",
        "\n",
        "topo = pilha.pop()\n",
        "print(topo)\n",
        "print(pilha)\n",
        "\n",
        "print(pilha[-1])"
      ]
    },
    {
      "cell_type": "code",
      "source": [
        "# Verificando se a Pilha Está Vazia\n",
        "\n",
        "pilha = []\n",
        "\n",
        "pilha.append(10)\n",
        "pilha.append(20)\n",
        "\n",
        "pilha.pop()\n",
        "pilha.pop()\n",
        "\n",
        "if not pilha:\n",
        "  print('Pilha Vazia')\n",
        "else:\n",
        "  print('Pilha Não Vazia')"
      ],
      "metadata": {
        "colab": {
          "base_uri": "https://localhost:8080/"
        },
        "id": "9o1XM-mKQlNz",
        "outputId": "e2619df1-caac-48cf-e386-a31d9bac337e"
      },
      "execution_count": 13,
      "outputs": [
        {
          "output_type": "stream",
          "name": "stdout",
          "text": [
            "Pilha Vazia\n"
          ]
        }
      ]
    },
    {
      "cell_type": "code",
      "source": [
        "class Pilha:\n",
        "    def __init__(self, limite):\n",
        "        self.pilha = []\n",
        "        self.limite = limite\n",
        "\n",
        "    def push(self, item):\n",
        "        if len(self.pilha) >= self.limite:\n",
        "            print(\"Erro: Pilha cheia!\")\n",
        "        else:\n",
        "            self.pilha.append(item)\n",
        "\n",
        "    def pop(self):\n",
        "        if len(self.pilha) <= 0:\n",
        "            print(\"Erro: Pilha vazia!\")\n",
        "            return None\n",
        "        else:\n",
        "            return self.pilha.pop()\n",
        "\n",
        "    def is_empty(self):\n",
        "        return len(self.pilha) == 0\n",
        "\n",
        "    def is_full(self):\n",
        "        return len(self.pilha) == self.limite\n",
        "\n",
        "    def peek(self):\n",
        "        if len(self.pilha) <= 0:\n",
        "            print(\"Erro: Pilha vazia!\")\n",
        "            return None\n",
        "        else:\n",
        "            return self.pilha[-1]\n",
        "\n",
        "    def size(self):\n",
        "        return len(self.pilha)\n",
        "\n",
        "# Exemplo de uso\n",
        "pilha = Pilha(limite=3)\n",
        "pilha.push(1)\n",
        "pilha.push(2)\n",
        "pilha.push(3)\n",
        "pilha.push(4)  # Mostra \"Erro: Pilha cheia!\"\n",
        "\n",
        "print(pilha.peek())  # Mostra \"3\"\n",
        "print(pilha.size())  # Mostra \"3\"\n",
        "\n",
        "pilha.pop()\n",
        "print(pilha.size())  # Mostra \"2\""
      ],
      "metadata": {
        "colab": {
          "base_uri": "https://localhost:8080/"
        },
        "id": "6L-LTUWZRf-l",
        "outputId": "b474cd9d-c85d-44a3-9040-dbd26d43ba64"
      },
      "execution_count": 20,
      "outputs": [
        {
          "output_type": "stream",
          "name": "stdout",
          "text": [
            "Erro: Pilha cheia!\n",
            "3\n",
            "3\n",
            "2\n"
          ]
        }
      ]
    },
    {
      "cell_type": "code",
      "source": [
        "# Aplicação Prática - Verificação de Parênteses Balanceados\n",
        "\n",
        "def verifica_parenteses(expressao):\n",
        "    pilha = []\n",
        "\n",
        "    # Dicionário para mapear parênteses de abertura para fechamento\n",
        "    pares = {')': '(', '}': '{', ']': '['}\n",
        "\n",
        "    for char in expressao:\n",
        "        if char in pares.values():\n",
        "            pilha.append(char)\n",
        "        elif char in pares.keys():\n",
        "            if pilha == [] or pilha.pop() != pares[char]:\n",
        "                return False\n",
        "\n",
        "    return pilha == []\n",
        "\n",
        "# Exemplo de uso\n",
        "expressao1 = \"((2 + 3) * (5/2))\"\n",
        "expressao2 = \"([5 + 3] * {2 + 4})\"\n",
        "expressao3 = \"([5 + 3]) * {2 + 4})\"\n",
        "\n",
        "print(verifica_parenteses(expressao1))  # Mostra \"True\"\n",
        "print(verifica_parenteses(expressao2))  # Mostra \"True\"\n",
        "print(verifica_parenteses(expressao3))  # Mostra \"False\""
      ],
      "metadata": {
        "colab": {
          "base_uri": "https://localhost:8080/"
        },
        "id": "4aA2H7WTS4Bk",
        "outputId": "01d8f972-4b8a-4ff3-cc45-d1aa775ed83a"
      },
      "execution_count": 22,
      "outputs": [
        {
          "output_type": "stream",
          "name": "stdout",
          "text": [
            "True\n",
            "True\n",
            "False\n"
          ]
        }
      ]
    },
    {
      "cell_type": "code",
      "source": [
        "def reverte_string(string):\n",
        "    pilha = []\n",
        "\n",
        "    # Empilhar todos os caracteres na pilha\n",
        "    for char in string:\n",
        "        pilha.append(char)\n",
        "\n",
        "    # Desempilhar todos os caracteres e construir a string revertida\n",
        "    string_revertida = ''\n",
        "    while pilha:\n",
        "        string_revertida += pilha.pop()\n",
        "\n",
        "    return string_revertida\n",
        "\n",
        "# Exemplo de uso\n",
        "string_original = \"Python\"\n",
        "print(reverte_string(string_original))  # Mostra \"nohtyP\""
      ],
      "metadata": {
        "colab": {
          "base_uri": "https://localhost:8080/"
        },
        "id": "FpOjJpyzTeN9",
        "outputId": "e57499eb-4757-4d37-acb3-6a667fd6408a"
      },
      "execution_count": 24,
      "outputs": [
        {
          "output_type": "stream",
          "name": "stdout",
          "text": [
            "nohtyP\n"
          ]
        }
      ]
    },
    {
      "cell_type": "code",
      "source": [
        "class Pilha:\n",
        "    def __init__(self):\n",
        "        self.itens = []\n",
        "\n",
        "    def esta_vazia(self):\n",
        "        return len(self.itens) == 0\n",
        "\n",
        "    def push(self, item):\n",
        "        self.itens.append(item)\n",
        "\n",
        "    def pop(self):\n",
        "        if self.esta_vazia():\n",
        "            return None\n",
        "        return self.itens.pop()\n",
        "\n",
        "    def peek(self):\n",
        "        if self.esta_vazia():\n",
        "            return None\n",
        "        return self.itens[-1]\n",
        "\n",
        "    def tamanho(self):\n",
        "        return len(self.itens)\n",
        "\n",
        "# Exemplo de uso\n",
        "pilha = Pilha()\n",
        "pilha.push(10)\n",
        "pilha.push(20)\n",
        "pilha.push(30)\n",
        "\n",
        "print(pilha.pop())  # Mostra \"30\"\n",
        "print(pilha.peek()) # Mostra \"20\"\n",
        "print(pilha.tamanho()) # Mostra \"2\""
      ],
      "metadata": {
        "id": "t8FwwFeITiTD",
        "outputId": "a8010abd-7f85-4c2d-a295-6fe78fd25087",
        "colab": {
          "base_uri": "https://localhost:8080/"
        }
      },
      "execution_count": 25,
      "outputs": [
        {
          "output_type": "stream",
          "name": "stdout",
          "text": [
            "30\n",
            "20\n",
            "2\n"
          ]
        }
      ]
    }
  ]
}