{
  "nbformat": 4,
  "nbformat_minor": 0,
  "metadata": {
    "colab": {
      "provenance": [],
      "authorship_tag": "ABX9TyNtzz7AyZ6bhBntg8h3dUIp",
      "include_colab_link": true
    },
    "kernelspec": {
      "name": "python3",
      "display_name": "Python 3"
    },
    "language_info": {
      "name": "python"
    }
  },
  "cells": [
    {
      "cell_type": "markdown",
      "metadata": {
        "id": "view-in-github",
        "colab_type": "text"
      },
      "source": [
        "<a href=\"https://colab.research.google.com/github/Muriloviskexe/Python/blob/main/Estrutura_de_Dados_(Tuplas).ipynb\" target=\"_parent\"><img src=\"https://colab.research.google.com/assets/colab-badge.svg\" alt=\"Open In Colab\"/></a>"
      ]
    },
    {
      "cell_type": "code",
      "execution_count": 4,
      "metadata": {
        "colab": {
          "base_uri": "https://localhost:8080/"
        },
        "id": "eDc13SNGwgZB",
        "outputId": "09f3e26c-86f3-4987-cd6b-1c3a3b63032f"
      },
      "outputs": [
        {
          "output_type": "stream",
          "name": "stdout",
          "text": [
            "1\n",
            "quatro\n",
            "5.6\n"
          ]
        }
      ],
      "source": [
        "#Criando e Acessando Elementos em uma Tupla\n",
        "\n",
        "# Criando uma tupla com diferentes tipos de elementos\n",
        "minha_tupla = (1, 2, 3, \"quatro\", True, 5.6)\n",
        "\n",
        "# Acessando elementos por índice\n",
        "print(minha_tupla[0])\n",
        "print(minha_tupla[3])\n",
        "\n",
        "# Acessando o último elemento\n",
        "print(minha_tupla[-1])\n",
        "\n",
        "# Tentando modificar um elemento (isso resultará em um erro, pois tuplas são imutáveis)\n",
        "#minha_tupla[1] = 10"
      ]
    },
    {
      "cell_type": "code",
      "source": [
        "#Desempacotando uma tupla\n",
        "\n",
        "pessoa = ('João', 25, 'São Paulo')\n",
        "\n",
        "#desempacotar em variaveis individuais\n",
        "nome, idade, cidade = pessoa\n",
        "\n",
        "print(nome)\n",
        "print(idade)\n",
        "print(cidade)"
      ],
      "metadata": {
        "colab": {
          "base_uri": "https://localhost:8080/"
        },
        "id": "R9dBZ7AH3kXQ",
        "outputId": "f8cb3da3-97ad-478b-f81c-301716a0d9e6"
      },
      "execution_count": 6,
      "outputs": [
        {
          "output_type": "stream",
          "name": "stdout",
          "text": [
            "João\n",
            "25\n",
            "São Paulo\n"
          ]
        }
      ]
    },
    {
      "cell_type": "code",
      "source": [
        "#Tuplas Aninhadas\n",
        "\n",
        "tupla_aninhada = ((1, 2, 3), ('a', 'b', 'c'), (True, False))\n",
        "\n",
        "#acessar tuplas\n",
        "print(tupla_aninhada[0])\n",
        "print(tupla_aninhada[0][2])\n",
        "print(tupla_aninhada[1][2])\n",
        "print(tupla_aninhada[1])\n",
        "print(tupla_aninhada[2][1])"
      ],
      "metadata": {
        "colab": {
          "base_uri": "https://localhost:8080/"
        },
        "id": "kMHwYQut33iK",
        "outputId": "baa7acbe-ebe2-49d5-93cb-495e970fddac"
      },
      "execution_count": 10,
      "outputs": [
        {
          "output_type": "stream",
          "name": "stdout",
          "text": [
            "(1, 2, 3)\n",
            "3\n",
            "c\n",
            "('a', 'b', 'c')\n",
            "False\n"
          ]
        }
      ]
    },
    {
      "cell_type": "code",
      "source": [
        "#Operações com Tuplas\n",
        "\n",
        "tupla1 = (1, 2, 3)\n",
        "tupla2 = (4, 5, 6)\n",
        "\n",
        "#Concatenar tuplas\n",
        "tupla_concatenada = tupla1 + tupla2\n",
        "print(tupla_concatenada)\n",
        "\n",
        "#repetir tupla\n",
        "tupla_repetida = tupla1 *2\n",
        "print(tupla_repetida)"
      ],
      "metadata": {
        "colab": {
          "base_uri": "https://localhost:8080/"
        },
        "id": "ZXDwlGNM4WRD",
        "outputId": "0f3931b7-cefb-4d52-c2bf-13570ddabcf4"
      },
      "execution_count": 12,
      "outputs": [
        {
          "output_type": "stream",
          "name": "stdout",
          "text": [
            "(1, 2, 3, 4, 5, 6)\n",
            "(1, 2, 3, 1, 2, 3)\n"
          ]
        }
      ]
    },
    {
      "cell_type": "code",
      "source": [
        "#Verificando a Existência de um Elemento em uma Tupla\n",
        "\n",
        "numeros=(11, 22, 33, 44, 55)\n",
        "\n",
        "#verificar se existe elemento\n",
        "print(11 in numeros)\n",
        "print(12 in numeros)\n"
      ],
      "metadata": {
        "colab": {
          "base_uri": "https://localhost:8080/"
        },
        "id": "zUMps_uC4k5Q",
        "outputId": "48d92a34-fb0a-421f-c27c-25edab40a85b"
      },
      "execution_count": 28,
      "outputs": [
        {
          "output_type": "stream",
          "name": "stdout",
          "text": [
            "True\n",
            "False\n"
          ]
        }
      ]
    },
    {
      "cell_type": "code",
      "source": [
        "# Funções de Agregação em Tuplas\n",
        "\n",
        "numeros = (11, 22, 33, 44, 55)\n",
        "\n",
        "print(min(numeros))\n",
        "print(max(numeros))\n",
        "print(sum(numeros))\n",
        "print(len(numeros))\n"
      ],
      "metadata": {
        "colab": {
          "base_uri": "https://localhost:8080/"
        },
        "id": "uyyLsYZm483G",
        "outputId": "49c2585f-b39b-488f-aec6-6daa55b354e6"
      },
      "execution_count": 30,
      "outputs": [
        {
          "output_type": "stream",
          "name": "stdout",
          "text": [
            "11\n",
            "55\n",
            "165\n",
            "5\n"
          ]
        }
      ]
    },
    {
      "cell_type": "code",
      "source": [
        "# Convertendo entre Listas e Tuplas\n",
        "\n",
        "minha_lista = [1, 2, 3, 4, 5]\n",
        "\n",
        "#converte para tupla\n",
        "minha_tupla = tuple(minha_lista)\n",
        "print(minha_tupla)\n",
        "\n",
        "#converte para lista\n",
        "minha_lista2 = list(minha_tupla)\n",
        "print(minha_lista2)"
      ],
      "metadata": {
        "colab": {
          "base_uri": "https://localhost:8080/"
        },
        "id": "0hR40aCM6H4j",
        "outputId": "cdf6a28f-8508-47f3-a8b6-a4286649e741"
      },
      "execution_count": 33,
      "outputs": [
        {
          "output_type": "stream",
          "name": "stdout",
          "text": [
            "(1, 2, 3, 4, 5)\n",
            "[1, 2, 3, 4, 5]\n"
          ]
        }
      ]
    },
    {
      "cell_type": "code",
      "source": [
        "# Tuplas com Um Único Elemento\n",
        "\n",
        "tupla_unica = (42,)\n",
        "print(tupla_unica)\n",
        "\n",
        "nao_tupla = (42)\n",
        "print(nao_tupla)\n",
        "print(type(nao_tupla))"
      ],
      "metadata": {
        "colab": {
          "base_uri": "https://localhost:8080/"
        },
        "id": "Lb_43eT-6cVd",
        "outputId": "a70b09fe-7137-4c08-ca36-0cba5ea3f2c8"
      },
      "execution_count": 38,
      "outputs": [
        {
          "output_type": "stream",
          "name": "stdout",
          "text": [
            "(42,)\n",
            "42\n",
            "<class 'int'>\n"
          ]
        }
      ]
    }
  ]
}