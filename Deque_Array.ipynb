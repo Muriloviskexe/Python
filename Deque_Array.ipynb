{
  "nbformat": 4,
  "nbformat_minor": 0,
  "metadata": {
    "colab": {
      "provenance": [],
      "authorship_tag": "ABX9TyNS1GXuv0hZJiBNB82UYcWj",
      "include_colab_link": true
    },
    "kernelspec": {
      "name": "python3",
      "display_name": "Python 3"
    },
    "language_info": {
      "name": "python"
    }
  },
  "cells": [
    {
      "cell_type": "markdown",
      "metadata": {
        "id": "view-in-github",
        "colab_type": "text"
      },
      "source": [
        "<a href=\"https://colab.research.google.com/github/Muriloviskexe/Python/blob/main/Deque_Array.ipynb\" target=\"_parent\"><img src=\"https://colab.research.google.com/assets/colab-badge.svg\" alt=\"Open In Colab\"/></a>"
      ]
    },
    {
      "cell_type": "code",
      "execution_count": 7,
      "metadata": {
        "colab": {
          "base_uri": "https://localhost:8080/"
        },
        "id": "fuca-b5K7R3o",
        "outputId": "ca3692a1-0c42-4f1d-98b5-37319884cabb"
      },
      "outputs": [
        {
          "output_type": "stream",
          "name": "stdout",
          "text": [
            "deque([1, 2, 3])\n",
            "deque([21, 1, 2, 3])\n",
            "deque([21, 1, 2])\n",
            "deque([1, 2])\n"
          ]
        }
      ],
      "source": [
        "from collections import deque\n",
        "\n",
        "meu_deque = deque()\n",
        "\n",
        "meu_deque.append(1)\n",
        "meu_deque.append(2)\n",
        "meu_deque.append(3)\n",
        "print(meu_deque)\n",
        "\n",
        "meu_deque.appendleft(21)\n",
        "print(meu_deque)\n",
        "\n",
        "meu_deque.pop()\n",
        "print(meu_deque)\n",
        "\n",
        "meu_deque.popleft()\n",
        "print(meu_deque)"
      ]
    },
    {
      "cell_type": "code",
      "source": [
        "from collections import deque\n",
        "\n",
        "meu_deque = deque(maxlen = 3)\n",
        "\n",
        "meu_deque.append(1)\n",
        "meu_deque.append(2)\n",
        "meu_deque.append(3)\n",
        "print(meu_deque)\n",
        "\n",
        "meu_deque.append(4)\n",
        "print(meu_deque)\n",
        "\n",
        "meu_deque.appendleft(0)\n",
        "print(meu_deque)"
      ],
      "metadata": {
        "colab": {
          "base_uri": "https://localhost:8080/"
        },
        "id": "jfoz_kPf8Zf2",
        "outputId": "80e9014b-93ba-42e8-f074-fd948afc3b28"
      },
      "execution_count": 14,
      "outputs": [
        {
          "output_type": "stream",
          "name": "stdout",
          "text": [
            "deque([1, 2, 3], maxlen=3)\n",
            "deque([2, 3, 4], maxlen=3)\n",
            "deque([0, 2, 3], maxlen=3)\n"
          ]
        }
      ]
    },
    {
      "cell_type": "code",
      "source": [
        "from collections import deque\n",
        "\n",
        "meu_deque = ([1, 2, 3, 4, 5])\n",
        "\n",
        "meu_deque.reverse()\n",
        "print(meu_deque)"
      ],
      "metadata": {
        "colab": {
          "base_uri": "https://localhost:8080/"
        },
        "id": "2CAMGlG79aHp",
        "outputId": "11cf79ae-ac2d-4685-d653-ab328b4adbda"
      },
      "execution_count": 17,
      "outputs": [
        {
          "output_type": "stream",
          "name": "stdout",
          "text": [
            "[5, 4, 3, 2, 1]\n"
          ]
        }
      ]
    },
    {
      "cell_type": "code",
      "source": [
        "from collections import deque\n",
        "\n",
        "meu_deque = deque([1, 2, 3, 4, 5])\n",
        "\n",
        "meu_deque.rotate(2)\n",
        "print(meu_deque)\n",
        "\n",
        "meu_deque.rotate(3)\n",
        "print(meu_deque)"
      ],
      "metadata": {
        "colab": {
          "base_uri": "https://localhost:8080/"
        },
        "id": "6BCtZTnh-E8M",
        "outputId": "89af35da-c5d6-4dbf-85dc-4c106a4d0393"
      },
      "execution_count": 19,
      "outputs": [
        {
          "output_type": "stream",
          "name": "stdout",
          "text": [
            "deque([4, 5, 1, 2, 3])\n",
            "deque([1, 2, 3, 4, 5])\n"
          ]
        }
      ]
    },
    {
      "cell_type": "code",
      "source": [
        "from collections import deque\n",
        "\n",
        "deque = deque({'a', 'b', 'c', 'd'})\n",
        "\n",
        "print(meu_deque[0])\n",
        "print(meu_deque[-1])\n",
        "\n",
        "meu_deque[1] = 'x'\n",
        "print(meu_deque)"
      ],
      "metadata": {
        "colab": {
          "base_uri": "https://localhost:8080/"
        },
        "id": "-QkXmfa5-Rgg",
        "outputId": "4c718cdf-f684-4997-ce56-3e85b3ff029b"
      },
      "execution_count": 22,
      "outputs": [
        {
          "output_type": "stream",
          "name": "stdout",
          "text": [
            "1\n",
            "5\n",
            "deque([1, 'x', 3, 4, 5])\n"
          ]
        }
      ]
    },
    {
      "cell_type": "code",
      "source": [
        "from collections import deque\n",
        "\n",
        "deque2 = deque([10, 20, 30, 40, 50])\n",
        "\n",
        "for elemento in deque2:\n",
        "  print(elemento)"
      ],
      "metadata": {
        "colab": {
          "base_uri": "https://localhost:8080/"
        },
        "id": "6oOQgrZK-vfT",
        "outputId": "8611135c-b3f8-4510-df26-8d782447c687"
      },
      "execution_count": 26,
      "outputs": [
        {
          "output_type": "stream",
          "name": "stdout",
          "text": [
            "10\n",
            "20\n",
            "30\n",
            "40\n",
            "50\n"
          ]
        }
      ]
    },
    {
      "cell_type": "code",
      "source": [
        "from collections import deque\n",
        "\n",
        "pilha = deque()\n",
        "pilha.append('a')\n",
        "pilha.append('b')\n",
        "pilha.append('c')\n",
        "pilha.append('d')\n",
        "print(pilha.pop())\n",
        "\n",
        "fila = deque()\n",
        "fila.append('a')\n",
        "fila.append('b')\n",
        "fila.append('c')\n",
        "fila.append('d')\n",
        "print(fila.popleft())"
      ],
      "metadata": {
        "colab": {
          "base_uri": "https://localhost:8080/"
        },
        "id": "GJ_z55Iw_fPi",
        "outputId": "65ea7e07-e079-4c4d-a46b-ad6c02324660"
      },
      "execution_count": 30,
      "outputs": [
        {
          "output_type": "stream",
          "name": "stdout",
          "text": [
            "d\n",
            "a\n"
          ]
        }
      ]
    },
    {
      "cell_type": "code",
      "source": [
        "from collections import deque\n",
        "\n",
        "def inserir_com_prioridade (deque, elemento):\n",
        "  if not deque or elemento >= deque[-1]:\n",
        "    deque.append(elemento)\n",
        "  else:\n",
        "    for i in range(len(deque)):\n",
        "      if elemento < deque[i]:\n",
        "        deque.insert(i, elemento)\n",
        "        break\n",
        "\n",
        "fila_prioridade = deque()\n",
        "\n",
        "inserir_com_prioridade(fila_prioridade, 3)\n",
        "inserir_com_prioridade(fila_prioridade, 1)\n",
        "inserir_com_prioridade(fila_prioridade, 2)\n",
        "inserir_com_prioridade(fila_prioridade, 5)\n",
        "\n",
        "print(fila_prioridade)"
      ],
      "metadata": {
        "colab": {
          "base_uri": "https://localhost:8080/"
        },
        "id": "uUtc3uDTMh8r",
        "outputId": "8c0a5c43-08b1-4345-9be7-ea39da03114f"
      },
      "execution_count": 32,
      "outputs": [
        {
          "output_type": "stream",
          "name": "stdout",
          "text": [
            "deque([1, 2, 3, 5])\n"
          ]
        }
      ]
    },
    {
      "cell_type": "code",
      "source": [
        "import array as arr\n",
        "\n",
        "meu_array = arr.array('i', [1, 2, 3, 4, 5])\n",
        "\n",
        "print(meu_array)\n",
        "\n",
        "print(meu_array[0])\n",
        "print(meu_array[3])"
      ],
      "metadata": {
        "colab": {
          "base_uri": "https://localhost:8080/"
        },
        "id": "U2NecUEfNc5a",
        "outputId": "7a0c464a-dd3c-471f-b6e7-c220a08d420d"
      },
      "execution_count": 35,
      "outputs": [
        {
          "output_type": "stream",
          "name": "stdout",
          "text": [
            "array('i', [1, 2, 3, 4, 5])\n",
            "1\n",
            "4\n"
          ]
        }
      ]
    },
    {
      "cell_type": "code",
      "source": [
        "import array as arr\n",
        "\n",
        "meu_array = arr.array('i', [1, 2, 3])\n",
        "\n",
        "meu_array.append(5)\n",
        "print(meu_array)\n",
        "\n",
        "\n",
        "meu_array.insert(1, 10)\n",
        "print(meu_array)\n",
        "\n",
        "meu_array.remove(10)\n",
        "print(meu_array)\n",
        "\n",
        "meu_array.pop()\n",
        "print(meu_array)"
      ],
      "metadata": {
        "colab": {
          "base_uri": "https://localhost:8080/"
        },
        "id": "oGcKPF1CN8Aj",
        "outputId": "433fff77-1af3-4656-9073-1142d92570fc"
      },
      "execution_count": 41,
      "outputs": [
        {
          "output_type": "stream",
          "name": "stdout",
          "text": [
            "array('i', [1, 2, 3, 5])\n",
            "array('i', [1, 10, 2, 3, 5])\n",
            "array('i', [1, 2, 3, 5])\n",
            "array('i', [1, 2, 3])\n"
          ]
        }
      ]
    },
    {
      "cell_type": "code",
      "source": [
        "import array as arr\n",
        "\n",
        "meu_array = arr.array('i', [1, 2, 3, 4, 5])\n",
        "\n",
        "for elemento in meu_array:\n",
        "  print(elemento)\n"
      ],
      "metadata": {
        "colab": {
          "base_uri": "https://localhost:8080/"
        },
        "id": "0TiVhkufOtvA",
        "outputId": "28e7b3cf-3b88-4be7-fcd0-521a190b813f"
      },
      "execution_count": 44,
      "outputs": [
        {
          "output_type": "stream",
          "name": "stdout",
          "text": [
            "1\n",
            "2\n",
            "3\n",
            "4\n",
            "5\n"
          ]
        }
      ]
    },
    {
      "cell_type": "code",
      "source": [
        "import numpy as np\n",
        "\n",
        "meu_array = np.array([1,2,3,4,5])\n",
        "\n",
        "print(meu_array)\n",
        "\n",
        "print(meu_array * 2)\n",
        "print(meu_array * 3)"
      ],
      "metadata": {
        "colab": {
          "base_uri": "https://localhost:8080/"
        },
        "id": "cl4pAvSqPeKk",
        "outputId": "f2f8d108-9401-4354-a269-eccd18907731"
      },
      "execution_count": 48,
      "outputs": [
        {
          "output_type": "stream",
          "name": "stdout",
          "text": [
            "[1 2 3 4 5]\n",
            "[ 2  4  6  8 10]\n",
            "[ 3  6  9 12 15]\n"
          ]
        }
      ]
    },
    {
      "cell_type": "code",
      "source": [
        "import numpy as np\n",
        "\n",
        "matriz = np.array([[1, 2, 3], [4, 5, 6], [7, 8, 9]])\n",
        "\n",
        "print(matriz)\n",
        "\n",
        "print(matriz[0, 0])\n",
        "print(matriz[1, 2])"
      ],
      "metadata": {
        "colab": {
          "base_uri": "https://localhost:8080/"
        },
        "id": "6N1BhTdfRH82",
        "outputId": "202ae8d3-eebb-4491-9eb8-28240c3a4133"
      },
      "execution_count": 52,
      "outputs": [
        {
          "output_type": "stream",
          "name": "stdout",
          "text": [
            "[[1 2 3]\n",
            " [4 5 6]\n",
            " [7 8 9]]\n",
            "1\n",
            "6\n"
          ]
        }
      ]
    },
    {
      "cell_type": "code",
      "source": [
        "import numpy as np\n",
        "\n",
        "array1 = np.array([1, 2, 3])\n",
        "array2 = np.array([4, 5, 6])\n",
        "\n",
        "soma = array1 + array2\n",
        "print(soma)\n",
        "\n",
        "produto = array1 * array2\n",
        "print(produto)\n",
        "\n",
        "produto_escalar = np.dot(array1, array2)\n",
        "print(produto_escalar)"
      ],
      "metadata": {
        "colab": {
          "base_uri": "https://localhost:8080/"
        },
        "id": "W0ODJ3tHTl1q",
        "outputId": "8b601807-0f87-4f96-954a-f1f47300bf1d"
      },
      "execution_count": 57,
      "outputs": [
        {
          "output_type": "stream",
          "name": "stdout",
          "text": [
            "[5 7 9]\n",
            "[ 4 10 18]\n",
            "32\n"
          ]
        }
      ]
    },
    {
      "cell_type": "code",
      "source": [
        "import numpy as np\n",
        "\n",
        "zeros_array = np.zeros(5)\n",
        "print(zeros_array)\n",
        "\n",
        "uns_array = np.ones(5)\n",
        "print(uns_array)\n",
        "\n",
        "linspace_array = np.linspace(0, 10, 5)\n",
        "print(linspace_array)\n",
        "\n",
        "random_array = np.random.random(5)\n",
        "print(random_array)"
      ],
      "metadata": {
        "colab": {
          "base_uri": "https://localhost:8080/"
        },
        "id": "Dkczyx1rWX6o",
        "outputId": "bb059b47-727d-4fbc-8ada-2adbf01cdcc5"
      },
      "execution_count": 65,
      "outputs": [
        {
          "output_type": "stream",
          "name": "stdout",
          "text": [
            "[0. 0. 0. 0. 0.]\n",
            "[1. 1. 1. 1. 1.]\n",
            "[ 0.   2.5  5.   7.5 10. ]\n",
            "[0.60841505 0.86313453 0.51838892 0.6081852  0.64044967]\n"
          ]
        }
      ]
    },
    {
      "cell_type": "code",
      "source": [
        "import numpy as np\n",
        "\n",
        "array1 = np.array([1, 2, 3, 4, 5, 6, 7, 8, 9])\n",
        "\n",
        "matriz = array1.reshape(3, 3)\n",
        "print(matriz)\n",
        "\n",
        "linha = matriz.reshape(1, 9)\n",
        "print(linha)"
      ],
      "metadata": {
        "colab": {
          "base_uri": "https://localhost:8080/"
        },
        "id": "d5bTJCe6XdW8",
        "outputId": "a5d666cd-fcf9-44dc-df91-1e34f7602739"
      },
      "execution_count": 71,
      "outputs": [
        {
          "output_type": "stream",
          "name": "stdout",
          "text": [
            "[[1 2 3]\n",
            " [4 5 6]\n",
            " [7 8 9]]\n",
            "[[1 2 3 4 5 6 7 8 9]]\n"
          ]
        }
      ]
    },
    {
      "cell_type": "code",
      "source": [
        "import numpy as np\n",
        "\n",
        "array = np.array([1, 2, 3, 4, 5, 6, 7, 8, 9])\n",
        "\n",
        "filtro = array > 5\n",
        "print(array[filtro])\n",
        "\n",
        "filtro_par = array % 2 == 0\n",
        "print(array[filtro_par])"
      ],
      "metadata": {
        "colab": {
          "base_uri": "https://localhost:8080/"
        },
        "id": "EGuWn75uYV6B",
        "outputId": "c4093a3e-8f1d-4636-ad13-3ed93ed7c85e"
      },
      "execution_count": 74,
      "outputs": [
        {
          "output_type": "stream",
          "name": "stdout",
          "text": [
            "[6 7 8 9]\n",
            "[2 4 6 8]\n"
          ]
        }
      ]
    },
    {
      "cell_type": "code",
      "source": [
        "import numpy as np\n",
        "\n",
        "array = np.array([1, 2, 3, 4, 5, 6, 7, 8, 9])\n",
        "\n",
        "media = np.mean(array)\n",
        "print(media)\n",
        "\n",
        "soma = np.sum(array)\n",
        "print(soma)\n",
        "\n",
        "desvio_padrao = np.std(array)\n",
        "print(desvio_padrao)"
      ],
      "metadata": {
        "colab": {
          "base_uri": "https://localhost:8080/"
        },
        "id": "jkxaIVP6YeAL",
        "outputId": "6a36bb49-6166-4aeb-8d19-40d165af2db9"
      },
      "execution_count": 75,
      "outputs": [
        {
          "output_type": "stream",
          "name": "stdout",
          "text": [
            "5.0\n",
            "45\n",
            "2.581988897471611\n"
          ]
        }
      ]
    }
  ]
}