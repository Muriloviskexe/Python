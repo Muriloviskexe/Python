{
  "nbformat": 4,
  "nbformat_minor": 0,
  "metadata": {
    "colab": {
      "provenance": [],
      "authorship_tag": "ABX9TyPyZSBFh4UBI49JXuPZ+loj",
      "include_colab_link": true
    },
    "kernelspec": {
      "name": "python3",
      "display_name": "Python 3"
    },
    "language_info": {
      "name": "python"
    }
  },
  "cells": [
    {
      "cell_type": "markdown",
      "metadata": {
        "id": "view-in-github",
        "colab_type": "text"
      },
      "source": [
        "<a href=\"https://colab.research.google.com/github/Muriloviskexe/Python/blob/main/Dados_String.ipynb\" target=\"_parent\"><img src=\"https://colab.research.google.com/assets/colab-badge.svg\" alt=\"Open In Colab\"/></a>"
      ]
    },
    {
      "cell_type": "code",
      "execution_count": 1,
      "metadata": {
        "colab": {
          "base_uri": "https://localhost:8080/"
        },
        "id": "j7hfdxOtlB4A",
        "outputId": "7bd1c519-509c-49bd-f4eb-ad7caa45ec81"
      },
      "outputs": [
        {
          "output_type": "stream",
          "name": "stdout",
          "text": [
            "Maria Clara Oliveira\n",
            "Maria Oliveira\n",
            "Olá, Maria Oliveira!\n"
          ]
        }
      ],
      "source": [
        "#Manipulação Básica de Strings\n",
        "\n",
        "nome_completo = 'Maria Clara Oliveira'\n",
        "print(nome_completo)\n",
        "\n",
        "primeiro_nome = 'Maria'\n",
        "sobrenome = 'Oliveira'\n",
        "nome_completo = primeiro_nome + ' ' + sobrenome\n",
        "print(nome_completo)\n",
        "\n",
        "\n",
        "print('Olá, ' + nome_completo + '!')\n"
      ]
    },
    {
      "cell_type": "code",
      "source": [
        "#Acessando e Fatiando Strings\n",
        "\n",
        "frase = 'Bem-vindo ao curso de Python!'\n",
        "print(frase[0:9])\n",
        "\n",
        "\n",
        "print(frase[-7:])\n",
        "\n",
        "\n",
        "print(frase[:10])\n"
      ],
      "metadata": {
        "colab": {
          "base_uri": "https://localhost:8080/"
        },
        "id": "IZsPE1bdlMJA",
        "outputId": "c064a98e-7d4c-4416-fb16-0bae085f471a"
      },
      "execution_count": 3,
      "outputs": [
        {
          "output_type": "stream",
          "name": "stdout",
          "text": [
            "Bem-vindo\n",
            "Python!\n",
            "Bem-vindo \n"
          ]
        }
      ]
    },
    {
      "cell_type": "code",
      "source": [
        "#Métodos Comuns de Strings\n",
        "\n",
        "mensagem = 'Aprender Python é divertido!'\n",
        "\n",
        "print(mensagem.upper())\n",
        "\n",
        "\n",
        "print(mensagem.lower())\n",
        "\n",
        "\n",
        "print(mensagem.replace('divertido', 'interessante'))\n",
        "\n",
        "\n",
        "print(mensagem.split())\n",
        "\n",
        "\n",
        "print(' '.join(['Olá,', 'Mundo!']))\n"
      ],
      "metadata": {
        "colab": {
          "base_uri": "https://localhost:8080/"
        },
        "id": "eaks2JSKlfp3",
        "outputId": "acb6b28c-a7e9-4010-f7d9-1d52668e3b44"
      },
      "execution_count": 5,
      "outputs": [
        {
          "output_type": "stream",
          "name": "stdout",
          "text": [
            "APRENDER PYTHON É DIVERTIDO!\n",
            "aprender python é divertido!\n",
            "Aprender Python é interessante!\n",
            "['Aprender', 'Python', 'é', 'divertido!']\n",
            "Olá, Mundo!\n"
          ]
        }
      ]
    },
    {
      "cell_type": "code",
      "source": [
        "#Verificando Conteúdo e Formatando Strings\n",
        "\n",
        "frase = 'Curso de Python'\n",
        "print('Python' in frase)\n",
        "\n",
        "print('Java' not in frase)\n",
        "\n",
        "idade = 30\n",
        "nome = 'Carlos'\n",
        "mensagem = f'{nome} tem {idade} anos.'\n",
        "print(mensagem)\n",
        "\n",
        "\n",
        "print('Seu nome é {}'.format(nome))\n"
      ],
      "metadata": {
        "colab": {
          "base_uri": "https://localhost:8080/"
        },
        "id": "k2H2H9NtluQk",
        "outputId": "7d337ea6-2aa4-4b1d-92f7-5d8164602336"
      },
      "execution_count": 6,
      "outputs": [
        {
          "output_type": "stream",
          "name": "stdout",
          "text": [
            "True\n",
            "True\n",
            "Carlos tem 30 anos.\n",
            "Seu nome é Carlos\n"
          ]
        }
      ]
    }
  ]
}