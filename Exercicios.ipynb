{
  "nbformat": 4,
  "nbformat_minor": 0,
  "metadata": {
    "colab": {
      "provenance": [],
      "authorship_tag": "ABX9TyNkDADFZmFE0Cl2B29U6+bU",
      "include_colab_link": true
    },
    "kernelspec": {
      "name": "python3",
      "display_name": "Python 3"
    },
    "language_info": {
      "name": "python"
    }
  },
  "cells": [
    {
      "cell_type": "markdown",
      "metadata": {
        "id": "view-in-github",
        "colab_type": "text"
      },
      "source": [
        "<a href=\"https://colab.research.google.com/github/Muriloviskexe/Python/blob/main/Exercicios.ipynb\" target=\"_parent\"><img src=\"https://colab.research.google.com/assets/colab-badge.svg\" alt=\"Open In Colab\"/></a>"
      ]
    },
    {
      "cell_type": "code",
      "execution_count": 3,
      "metadata": {
        "colab": {
          "base_uri": "https://localhost:8080/"
        },
        "id": "qvFEM3HBtn3L",
        "outputId": "2b869e0c-2399-4d1e-e27d-2173b9dbc858"
      },
      "outputs": [
        {
          "output_type": "stream",
          "name": "stdout",
          "text": [
            "Digite o primeiro número: 12\n",
            "Digite o segundo número: 2\n",
            "A soma dos dois números é: 14\n"
          ]
        }
      ],
      "source": [
        "# Faça um programa que peça dois números inteiros. Imprima a soma desses dois números na tela.​\n",
        "\n",
        "num1 = int(input(\"Digite o primeiro número: \"))\n",
        "num2 = int(input(\"Digite o segundo número: \"))\n",
        "\n",
        "soma = num1 + num2\n",
        "\n",
        "print(\"A soma dos dois números é:\", soma)"
      ]
    },
    {
      "cell_type": "code",
      "source": [
        "# Escreva um programa que leia um valor em metros e o exiba convertido em milímetros.​\n",
        "\n",
        "dados1 = float(input('Digite um valor em Metros: '))\n",
        "\n",
        "res = int(dados1) * 1000\n",
        "\n",
        "print(dados1,\" em Milimetros é igual a: \", res)"
      ],
      "metadata": {
        "colab": {
          "base_uri": "https://localhost:8080/"
        },
        "id": "8HKKI7dnuAOJ",
        "outputId": "05726dba-c503-498c-f59f-ceeb0dce47da"
      },
      "execution_count": 7,
      "outputs": [
        {
          "output_type": "stream",
          "name": "stdout",
          "text": [
            "Digite um valor em Metros: 5\n",
            "5.0  em Milimetros é igual a:  5000\n"
          ]
        }
      ]
    },
    {
      "cell_type": "code",
      "source": [
        "# Faça um programa que calcule o aumento de um salário. Ele deve solicitar o valor do salário e a porcentagem do aumento. Exiba o valor do aumento e do novo salário.​\n",
        "\n",
        "salario = float(input(\"digite o valor do seu salário atual: \"))\n",
        "aumento = float(input(\"Digite a porcentagem de aumento do seu salário: \"))\n",
        "\n",
        "valor_aumento = salario * (aumento / 100)\n",
        "novo_salario = salario + valor_aumento\n",
        "\n",
        "print(\"O aumento do salario foi de: R$\", valor_aumento)\n",
        "print(\"O seu novo salário é de: R$\", novo_salario)"
      ],
      "metadata": {
        "colab": {
          "base_uri": "https://localhost:8080/"
        },
        "id": "pokArCu7uz3J",
        "outputId": "2bf54713-9a95-44bc-ed90-4a106b757246"
      },
      "execution_count": 12,
      "outputs": [
        {
          "output_type": "stream",
          "name": "stdout",
          "text": [
            "digite o valor do seu salário atual: 1502\n",
            "Digite a porcentagem de aumento do seu salário: 15\n",
            "O aumento do salario foi de: R$ 225.29999999999998\n",
            "O seu novo salário é de: R$ 1727.3\n"
          ]
        }
      ]
    },
    {
      "cell_type": "code",
      "source": [
        "#Escreva um programa que calcule o tempo de uma viagem de carro. Pergunte a distância a percorrer e a velocidade média esperada para a viagem.​\n",
        "\n",
        "distancia = float(input(\"digite a distancia do percurso em Km: \"))\n",
        "velo = float(input(\"digite a velocidade média em Km/h: \"))\n",
        "\n",
        "tempo = distancia / velo\n",
        "\n",
        "if tempo < 1:\n",
        "    print(\"O tempo da viagem é de: \", tempo * 60, \"minutos\")\n",
        "else:\n",
        "  print(\"O tempo da viagem é de: \", tempo, \"horas\")"
      ],
      "metadata": {
        "colab": {
          "base_uri": "https://localhost:8080/"
        },
        "id": "XBPhpZsRwE7_",
        "outputId": "6b8fdfa4-6c99-4cb5-87ac-64ff90ab9f72"
      },
      "execution_count": 15,
      "outputs": [
        {
          "output_type": "stream",
          "name": "stdout",
          "text": [
            "digite a distancia do percurso: 50\n",
            "digite a velocidade média em km/h: 80\n",
            "O tempo da viagem é de:  37.5 minutos\n"
          ]
        }
      ]
    },
    {
      "cell_type": "code",
      "source": [
        "# Crie um programa que lê dois valores e imprime qual é o maior.​\n",
        "\n",
        "num1 = int(input(\"Digite o primeiro número: \"))\n",
        "num2 = int(input(\"Digite o segundo número: \"))\n",
        "\n",
        "if num1 > num2:\n",
        "  print(\"O \",num1, \" é maior\")\n",
        "else:\n",
        "  print(\"O \",num2, \" é maior\")"
      ],
      "metadata": {
        "colab": {
          "base_uri": "https://localhost:8080/"
        },
        "id": "6HVwqQE2w9o0",
        "outputId": "f8ed428c-01bd-40ad-abb7-134365cc8dc9"
      },
      "execution_count": 18,
      "outputs": [
        {
          "output_type": "stream",
          "name": "stdout",
          "text": [
            "Digite o primeiro número: 560\n",
            "Digite o segundo número: 2\n",
            "O  560  é maior\n"
          ]
        }
      ]
    },
    {
      "cell_type": "code",
      "source": [
        "# Escreva um programa que pergunte a velocidade do carro de um usuário. Caso esse carro ultrapasse 80 km/h, exiba uma mensagem dizendo que o usuário foi multado.\n",
        "# Nesse caso, exiba o valor da multa cobrando R$ 15,00 por km acima de 80 km/h.​\n",
        "\n",
        "velo = float(input(\"Digite a velocidade do carro: \"))\n",
        "\n",
        "if velo > 80:\n",
        "  print(\"Você foi multado\")\n",
        "else:\n",
        "  print(\"Você não foi multado\")\n",
        "\n",
        "multa = (velo - 80) * 15\n",
        "\n",
        "if velo > 80:\n",
        "  print (\"Sua multa é de: R$\", multa)\n"
      ],
      "metadata": {
        "colab": {
          "base_uri": "https://localhost:8080/"
        },
        "id": "0_6VXoLYx365",
        "outputId": "60186db0-e0a9-4d96-8e48-8a0dc8673578"
      },
      "execution_count": 23,
      "outputs": [
        {
          "output_type": "stream",
          "name": "stdout",
          "text": [
            "Digite a velocidade do carro: 90\n",
            "Você foi multado\n",
            "Sua multa é de: R$ 150.0\n"
          ]
        }
      ]
    },
    {
      "cell_type": "code",
      "source": [
        "# Escreva um programa que pergunte a distância que um passageiro deseja percorrer em km. Calcule o preço da passagem, cobrando R$ 0,50 por km para viagens de até 200 km e R$ 0,45 para viagens mais longas.​\n",
        "\n",
        "distancia = float(input(\"Digite a distancia da sua viagem em km: \"))\n",
        "\n",
        "if distancia < 200:\n",
        "  valor = distancia * 0.50\n",
        "else:\n",
        "  valor = distancia * 0.45\n",
        "\n",
        "print(\"O valor da sua viagem é de: R$\", valor)"
      ],
      "metadata": {
        "colab": {
          "base_uri": "https://localhost:8080/"
        },
        "id": "MV2UHMfGy_Tq",
        "outputId": "13c5febb-c1d3-4024-949b-0147237e94d4"
      },
      "execution_count": 31,
      "outputs": [
        {
          "output_type": "stream",
          "name": "stdout",
          "text": [
            "Digite a distancia da sua viagem em km: 200\n",
            "O valor da sua viagem é de: R$ 90.0\n"
          ]
        }
      ]
    },
    {
      "cell_type": "code",
      "source": [
        "# Escreva um programa que leia dois números e pergunte qual a operação o usuário deseja realizar.\n",
        "# O usuário deve ser capaz de escolher as operações de soma, subtração, multiplicação e divisão. Exiba o resultado da operação solicitada.​\n",
        "\n",
        "num1 = float(input(\"Digite o primeiro número: \"))\n",
        "num2 = float(input(\"Digite o segundo número: \"))\n",
        "\n",
        "print (\"Escolha a operação: \\n 1 - Soma \\n 2 - Subtração \\n 3 - Multiplicação \\n 4 - Divisão\")\n",
        "opcao = int(input(\"Digite o numero da opção desejada: \"))\n",
        "\n",
        "if opcao == 1:\n",
        "  resultado = num1 + num2\n",
        "elif opcao == 2:\n",
        "  resultado = num1 - num2\n",
        "elif opcao == 3:\n",
        "  resultado = num1 * num2\n",
        "elif opcao == 4:\n",
        "  resultado = num1 / num2\n",
        "\n",
        "print(\"O resultado da operação é: \", resultado)"
      ],
      "metadata": {
        "colab": {
          "base_uri": "https://localhost:8080/"
        },
        "id": "HwbheEzf0Jzk",
        "outputId": "cb57da7b-2acc-4c5d-bb64-e09b8de8182c"
      },
      "execution_count": 40,
      "outputs": [
        {
          "output_type": "stream",
          "name": "stdout",
          "text": [
            "Digite o primeiro número: 10\n",
            "Digite o segundo número: 10\n",
            "Escolha a operação: \n",
            " 1 - Soma \n",
            " 2 - Subtração \n",
            " 3 - Multiplicação \n",
            " 4 - Divisão\n",
            "Digite o numero da opção desejada: 3\n",
            "O resultado da operação é:  100.0\n"
          ]
        }
      ]
    }
  ]
}