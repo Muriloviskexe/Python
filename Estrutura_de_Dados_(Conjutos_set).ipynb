{
  "nbformat": 4,
  "nbformat_minor": 0,
  "metadata": {
    "colab": {
      "provenance": [],
      "authorship_tag": "ABX9TyMhksdz0bk3ysRABGWR/f3b",
      "include_colab_link": true
    },
    "kernelspec": {
      "name": "python3",
      "display_name": "Python 3"
    },
    "language_info": {
      "name": "python"
    }
  },
  "cells": [
    {
      "cell_type": "markdown",
      "metadata": {
        "id": "view-in-github",
        "colab_type": "text"
      },
      "source": [
        "<a href=\"https://colab.research.google.com/github/Muriloviskexe/Python/blob/main/Estrutura_de_Dados_(Conjutos_set).ipynb\" target=\"_parent\"><img src=\"https://colab.research.google.com/assets/colab-badge.svg\" alt=\"Open In Colab\"/></a>"
      ]
    },
    {
      "cell_type": "code",
      "execution_count": 6,
      "metadata": {
        "colab": {
          "base_uri": "https://localhost:8080/"
        },
        "id": "ceLTXbZpAKhC",
        "outputId": "d6e0475a-4b2a-44b6-fbd5-7726896f0fd6"
      },
      "outputs": [
        {
          "output_type": "stream",
          "name": "stdout",
          "text": [
            "{1, 2, 3, 4, 5}\n",
            "{1, 2, 3, 4, 5}\n",
            "set()\n"
          ]
        }
      ],
      "source": [
        "#Criando e acessando conjuntos\n",
        "\n",
        "meu_conjunto = {1, 2, 3, 4, 5}\n",
        "print(meu_conjunto)\n",
        "\n",
        "#criar conjunto com repetições\n",
        "conjunto2 = {1, 2, 2, 3, 4, 4, 5, 5, 5}\n",
        "print(conjunto2)\n",
        "\n",
        "#criar conjunto vazio\n",
        "conjunto_vazio = set()\n",
        "print(conjunto_vazio)"
      ]
    },
    {
      "cell_type": "code",
      "source": [
        "# Adicionando e Removendo Elementos em um Conjunto\n",
        "\n",
        "conjunto = {1, 2, 3}\n",
        "\n",
        "#adicionar elemento\n",
        "conjunto.add(5)\n",
        "print(conjunto)\n",
        "\n",
        "#remover elemento\n",
        "conjunto.remove(3)\n",
        "print(conjunto)\n",
        "\n",
        "#Tentando remover um elemento inexistente (gera erro)\n",
        "#conjunto.remove(3)\n",
        "\n",
        "#Remover elemento com discard (não gera erro se o elemento não existir)\n",
        "conjunto.discard(3)\n",
        "print(conjunto)\n",
        "\n",
        "elemento = conjunto.pop()\n",
        "print(elemento)\n",
        "print(conjunto)"
      ],
      "metadata": {
        "colab": {
          "base_uri": "https://localhost:8080/"
        },
        "id": "Yk3GrW7_BY1W",
        "outputId": "01995fa2-8226-4f46-964b-4e03a9d5b1f2"
      },
      "execution_count": 14,
      "outputs": [
        {
          "output_type": "stream",
          "name": "stdout",
          "text": [
            "{1, 2, 3, 5}\n",
            "{1, 2, 5}\n",
            "{1, 2, 5}\n",
            "1\n",
            "{2, 5}\n"
          ]
        }
      ]
    },
    {
      "cell_type": "code",
      "source": [
        "#Operações de Conjuntos (União, Interseção, Diferença)\n",
        "\n",
        "conjunto_a = {1, 2, 3, 4, 5}\n",
        "conjunto_b = {4, 5, 6, 7, 8}\n",
        "\n",
        "uniao = conjunto_a.union(conjunto_b)\n",
        "print(uniao)\n",
        "\n",
        "intersecao = conjunto_a.intersection(conjunto_b)\n",
        "print(intersecao)\n",
        "\n",
        "diferenca = conjunto_a.difference(conjunto_b)\n",
        "print(diferenca)\n",
        "\n",
        "diferenca2 = conjunto_b.difference(conjunto_a)\n",
        "print(diferenca2)\n",
        "\n",
        "diferenca3 = conjunto_a.symmetric_difference(conjunto_b)\n",
        "print(diferenca3)"
      ],
      "metadata": {
        "colab": {
          "base_uri": "https://localhost:8080/"
        },
        "id": "fBYhBeB-C2pq",
        "outputId": "fc7d71e9-1641-443b-a219-e121cab55c6e"
      },
      "execution_count": 20,
      "outputs": [
        {
          "output_type": "stream",
          "name": "stdout",
          "text": [
            "{1, 2, 3, 4, 5, 6, 7, 8}\n",
            "{4, 5}\n",
            "{1, 2, 3}\n",
            "{8, 6, 7}\n",
            "{1, 2, 3, 6, 7, 8}\n"
          ]
        }
      ]
    },
    {
      "cell_type": "code",
      "source": [
        "# Verificando Subconjuntos e Superconjuntos\n",
        "conjunto1 = {1, 2, 3}\n",
        "conjunto2 = {1, 2, 3, 4, 5}\n",
        "\n",
        "print(conjunto1.issubset(conjunto2))\n",
        "print(conjunto2.issuperset(conjunto1))"
      ],
      "metadata": {
        "colab": {
          "base_uri": "https://localhost:8080/"
        },
        "id": "6XoF9aVsFObh",
        "outputId": "2e50f185-7fe9-4b0f-c5ab-8aabbbdb048d"
      },
      "execution_count": 22,
      "outputs": [
        {
          "output_type": "stream",
          "name": "stdout",
          "text": [
            "True\n",
            "True\n"
          ]
        }
      ]
    },
    {
      "cell_type": "code",
      "source": [
        "# Convertendo Listas em Conjuntos para Remover Duplicatas\n",
        "\n",
        "\n",
        "lista_com_duplicatas = [1, 2, 2, 3, 4, 4, 5, 6, 6]\n",
        "conjunto_sem_duplicatas = set(lista_com_duplicatas)\n",
        "print(conjunto_sem_duplicatas)\n",
        "\n",
        "lista_sem_duplicatas = list(conjunto_sem_duplicatas)\n",
        "print(lista_sem_duplicatas)"
      ],
      "metadata": {
        "colab": {
          "base_uri": "https://localhost:8080/"
        },
        "id": "cWKQEaxcFWSm",
        "outputId": "63b77e58-7b1a-4c3c-9f66-bd61e3814325"
      },
      "execution_count": 26,
      "outputs": [
        {
          "output_type": "stream",
          "name": "stdout",
          "text": [
            "{1, 2, 3, 4, 5, 6}\n",
            "[1, 2, 3, 4, 5, 6]\n"
          ]
        }
      ]
    },
    {
      "cell_type": "code",
      "source": [
        "# Verificando a Existência de um Elemento em um Conjunto\n",
        "\n",
        "numeros = {10, 20, 30, 40, 50}\n",
        "print(20 in numeros)\n",
        "print(60 in numeros)"
      ],
      "metadata": {
        "colab": {
          "base_uri": "https://localhost:8080/"
        },
        "id": "wiiFyMOxFntW",
        "outputId": "398120e8-7a8f-4c93-fae0-80176f08dd8a"
      },
      "execution_count": 28,
      "outputs": [
        {
          "output_type": "stream",
          "name": "stdout",
          "text": [
            "True\n",
            "False\n"
          ]
        }
      ]
    },
    {
      "cell_type": "code",
      "source": [
        "#Conjuntos Imutáveis (frozenset)\n",
        "\n",
        "conjunto_imutavel = frozenset([1, 2, 3, 4, 5])\n",
        "print(conjunto_imutavel)\n",
        "\n",
        "#gera erro\n",
        "#conjunto_imutavel.add(6)\n",
        "#conjunto_imutavel.remove(3)"
      ],
      "metadata": {
        "colab": {
          "base_uri": "https://localhost:8080/"
        },
        "id": "9C0OVQqiFund",
        "outputId": "39d6c8f7-b4e8-4f86-f1c3-947da09d79bc"
      },
      "execution_count": 33,
      "outputs": [
        {
          "output_type": "stream",
          "name": "stdout",
          "text": [
            "frozenset({1, 2, 3, 4, 5})\n"
          ]
        }
      ]
    },
    {
      "cell_type": "code",
      "source": [],
      "metadata": {
        "id": "D2Gkf8IcFz9n"
      },
      "execution_count": null,
      "outputs": []
    }
  ]
}