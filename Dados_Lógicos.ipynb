{
  "nbformat": 4,
  "nbformat_minor": 0,
  "metadata": {
    "colab": {
      "provenance": [],
      "authorship_tag": "ABX9TyMzTafAcaDmKr6yqbX9nxjm",
      "include_colab_link": true
    },
    "kernelspec": {
      "name": "python3",
      "display_name": "Python 3"
    },
    "language_info": {
      "name": "python"
    }
  },
  "cells": [
    {
      "cell_type": "markdown",
      "metadata": {
        "id": "view-in-github",
        "colab_type": "text"
      },
      "source": [
        "<a href=\"https://colab.research.google.com/github/Muriloviskexe/Python/blob/main/Dados_L%C3%B3gicos.ipynb\" target=\"_parent\"><img src=\"https://colab.research.google.com/assets/colab-badge.svg\" alt=\"Open In Colab\"/></a>"
      ]
    },
    {
      "cell_type": "code",
      "execution_count": 1,
      "metadata": {
        "colab": {
          "base_uri": "https://localhost:8080/"
        },
        "id": "WRIcXrUCkgEZ",
        "outputId": "cab69870-16bf-48f7-cff8-d859c12c2e0d"
      },
      "outputs": [
        {
          "output_type": "stream",
          "name": "stdout",
          "text": [
            "True\n",
            "False\n",
            "False\n"
          ]
        }
      ],
      "source": [
        "#Combinações de Operadores Lógicos\n",
        "\n",
        "a = True\n",
        "b = False\n",
        "c = True\n",
        "\n",
        "print(a and b or c)        # Mostra \"True\" (a AND b é False, False OR c é True)\n",
        "print((a or b) and not c)  # Mostra \"False\" (a OR b é True, NOT c é False, True AND False é False)\n",
        "print(not (a and c))       # Mostra \"False\" (a AND c é True, NOT True é False)"
      ]
    },
    {
      "cell_type": "code",
      "source": [
        "#Comparações que Resultam em Valores Lógicos\n",
        "\n",
        "x = 10\n",
        "y = 5\n",
        "z = 15\n",
        "\n",
        "print(x > y and z > x)       # Mostra \"True\" (x > y é True e z > x é True)\n",
        "print(x == 10 or y != 5)     # Mostra \"True\" (x == 10 é True, y != 5 é False, mas OR retorna True)\n",
        "print(not (z < x or y == x)) # Mostra \"True\" (z < x é False, y == x é False, OR retorna False, NOT False é True)"
      ],
      "metadata": {
        "colab": {
          "base_uri": "https://localhost:8080/"
        },
        "id": "Zp5xbPrhkl3d",
        "outputId": "e4178a32-f94d-4c0b-9090-d0f4cd0caae8"
      },
      "execution_count": 4,
      "outputs": [
        {
          "output_type": "stream",
          "name": "stdout",
          "text": [
            "True\n",
            "True\n",
            "True\n"
          ]
        }
      ]
    },
    {
      "cell_type": "code",
      "source": [
        "#Mistura de Operadores Aritméticos e Lógicos\n",
        "\n",
        "a = 8\n",
        "b = 3\n",
        "c = 10\n",
        "print((a + b == 11) and (c - b == 7))  # Mostra \"True\" (8 + 3 == 11 é True e 10 - 3 == 7 é True)\n",
        "print((a * b > c) or (c / b == 3))     # Mostra \"True\" (8 * 3 > 10 é True e 10 / 3 == 3 é False, mas OR retorna True)\n",
        "print(not (a ** 2 == 64))              # Mostra \"False\" (8 ** 2 == 64 é True, NOT True é False)"
      ],
      "metadata": {
        "colab": {
          "base_uri": "https://localhost:8080/"
        },
        "id": "J0A9tvxgk1tm",
        "outputId": "9aa48e0a-2bb7-466d-c465-3842a8152e1c"
      },
      "execution_count": 6,
      "outputs": [
        {
          "output_type": "stream",
          "name": "stdout",
          "text": [
            "True\n",
            "True\n",
            "False\n"
          ]
        }
      ]
    }
  ]
}