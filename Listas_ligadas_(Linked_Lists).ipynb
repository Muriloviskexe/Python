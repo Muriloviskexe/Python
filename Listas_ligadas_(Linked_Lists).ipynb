{
  "nbformat": 4,
  "nbformat_minor": 0,
  "metadata": {
    "colab": {
      "provenance": [],
      "authorship_tag": "ABX9TyMe9gThljSpEfrZCsXejrsU",
      "include_colab_link": true
    },
    "kernelspec": {
      "name": "python3",
      "display_name": "Python 3"
    },
    "language_info": {
      "name": "python"
    }
  },
  "cells": [
    {
      "cell_type": "markdown",
      "metadata": {
        "id": "view-in-github",
        "colab_type": "text"
      },
      "source": [
        "<a href=\"https://colab.research.google.com/github/Muriloviskexe/Python/blob/main/Listas_ligadas_(Linked_Lists).ipynb\" target=\"_parent\"><img src=\"https://colab.research.google.com/assets/colab-badge.svg\" alt=\"Open In Colab\"/></a>"
      ]
    },
    {
      "cell_type": "code",
      "execution_count": 9,
      "metadata": {
        "colab": {
          "base_uri": "https://localhost:8080/"
        },
        "id": "1HONkEwKLGd7",
        "outputId": "8c9c3244-9012-4fb0-b62a-ab76cc79c6e5"
      },
      "outputs": [
        {
          "output_type": "stream",
          "name": "stdout",
          "text": [
            "1 -> 2 -> 3 -> None\n"
          ]
        }
      ],
      "source": [
        "# Implementando uma Lista Ligada Simples\n",
        "\n",
        "# Definindo a classe Node (Nó)\n",
        "\n",
        "class Node:\n",
        "    def __init__(self, data):\n",
        "        self.data = data  # Dado armazenado no nó\n",
        "        self.next = None  # Referência para o próximo nó na lista\n",
        "\n",
        "# Definindo a classe LinkedList (Lista Ligada)\n",
        "class LinkedList:\n",
        "    def __init__(self):\n",
        "        self.head = None  # Inicialmente, a lista está vazia, então o cabeçalho é None\n",
        "\n",
        "    # Método para adicionar um novo nó ao final da lista\n",
        "    def append(self, data):\n",
        "        new_node = Node(data)\n",
        "        if self.head is None:  # Se a lista estiver vazia\n",
        "            self.head = new_node\n",
        "            return\n",
        "        last = self.head\n",
        "        while last.next:  # Percorre até o último nó\n",
        "            last = last.next\n",
        "        last.next = new_node  # Adiciona o novo nó ao final\n",
        "\n",
        "    # Método para imprimir a lista\n",
        "    def print_list(self):\n",
        "        current = self.head\n",
        "        while current:\n",
        "            print(current.data, end=\" -> \")\n",
        "            current = current.next\n",
        "        print(\"None\")\n",
        "\n",
        "# Exemplo de uso\n",
        "ll = LinkedList()\n",
        "ll.append(1)\n",
        "ll.append(2)\n",
        "ll.append(3)\n",
        "ll.print_list()  # Mostra \"1 -> 2 -> 3 -> None\""
      ]
    },
    {
      "cell_type": "code",
      "source": [
        "# Removendo um Nó da Lista\n",
        "\n",
        "# Continuando a partir do exemplo anterior\n",
        "\n",
        "class LinkedList:\n",
        "    def __init__(self):\n",
        "        self.head = None\n",
        "\n",
        "    def append(self, data):\n",
        "        new_node = Node(data)\n",
        "        if self.head is None:\n",
        "            self.head = new_node\n",
        "            return\n",
        "        last = self.head\n",
        "        while last.next:\n",
        "            last = last.next\n",
        "        last.next = new_node\n",
        "\n",
        "    def prepend(self, data):\n",
        "        new_node = Node(data)\n",
        "        new_node.next = self.head\n",
        "        self.head = new_node\n",
        "\n",
        "    # Método para remover um nó com um valor específico\n",
        "    def delete_with_value(self, data):\n",
        "        if self.head is None:\n",
        "            return\n",
        "\n",
        "        if self.head.data == data:\n",
        "            self.head = self.head.next\n",
        "            return\n",
        "\n",
        "        current = self.head\n",
        "        while current.next:\n",
        "            if current.next.data == data:\n",
        "                current.next = current.next.next\n",
        "                return\n",
        "            current = current.next\n",
        "\n",
        "    def print_list(self):\n",
        "        current = self.head\n",
        "        while current:\n",
        "            print(current.data, end=\" -> \")\n",
        "            current = current.next\n",
        "        print(\"None\")\n",
        "\n",
        "# Exemplo de uso\n",
        "ll = LinkedList()\n",
        "ll.append(1)\n",
        "ll.append(2)\n",
        "ll.append(3)\n",
        "ll.delete_with_value(2)  # Remove o nó com valor 2\n",
        "ll.print_list()  # Mostra \"1 -> 3 -> None\"\n"
      ],
      "metadata": {
        "colab": {
          "base_uri": "https://localhost:8080/"
        },
        "id": "1FgLqSEqPakU",
        "outputId": "e2ba388e-3f64-48c8-c862-b6e5b3c9e647"
      },
      "execution_count": 10,
      "outputs": [
        {
          "output_type": "stream",
          "name": "stdout",
          "text": [
            "1 -> 3 -> None\n"
          ]
        }
      ]
    },
    {
      "cell_type": "code",
      "source": [
        "# Inserindo um Nó em uma Posição Específica\n",
        "\n",
        "# Continuando a partir do exemplo anterior\n",
        "\n",
        "class LinkedList:\n",
        "    def __init__(self):\n",
        "        self.head = None\n",
        "\n",
        "    def append(self, data):\n",
        "        new_node = Node(data)\n",
        "        if self.head is None:\n",
        "            self.head = new_node\n",
        "            return\n",
        "        last = self.head\n",
        "        while last.next:\n",
        "            last = last.next\n",
        "        last.next = new_node\n",
        "\n",
        "    def prepend(self, data):\n",
        "        new_node = Node(data)\n",
        "        new_node.next = self.head\n",
        "        self.head = new_node\n",
        "\n",
        "    def delete_with_value(self, data):\n",
        "        if self.head is None:\n",
        "            return\n",
        "\n",
        "        if self.head.data == data:\n",
        "            self.head = self.head.next\n",
        "            return\n",
        "\n",
        "        current = self.head\n",
        "        while current.next:\n",
        "            if current.next.data == data:\n",
        "                current.next = current.next.next\n",
        "                return\n",
        "            current = current.next\n",
        "\n",
        "    # Método para inserir um nó em uma posição específica\n",
        "    def insert_after_value(self, prev_data, data):\n",
        "        current = self.head\n",
        "        while current:\n",
        "            if current.data == prev_data:\n",
        "                new_node = Node(data)\n",
        "                new_node.next = current.next\n",
        "                current.next = new_node\n",
        "                return\n",
        "            current = current.next\n",
        "\n",
        "    def print_list(self):\n",
        "        current = self.head\n",
        "        while current:\n",
        "            print(current.data, end=\" -> \")\n",
        "            current = current.next\n",
        "        print(\"None\")\n",
        "\n",
        "# Exemplo de uso\n",
        "ll = LinkedList()\n",
        "ll.append(1)\n",
        "ll.append(3)\n",
        "ll.insert_after_value(1, 2)  # Insere 2 depois do valor 1\n",
        "ll.print_list()  # Mostra \"1 -> 2 -> 3 -> None\""
      ],
      "metadata": {
        "colab": {
          "base_uri": "https://localhost:8080/"
        },
        "id": "AjD8rIApPkYI",
        "outputId": "e1a2f1d3-24f3-4452-cca1-80dc1be38c60"
      },
      "execution_count": 12,
      "outputs": [
        {
          "output_type": "stream",
          "name": "stdout",
          "text": [
            "1 -> 2 -> 3 -> None\n"
          ]
        }
      ]
    },
    {
      "cell_type": "code",
      "source": [
        "# Revertendo uma Lista Ligada\n",
        "\n",
        "# Continuando a partir do exemplo anterior\n",
        "\n",
        "class LinkedList:\n",
        "    def __init__(self):\n",
        "        self.head = None\n",
        "\n",
        "    def append(self, data):\n",
        "        new_node = Node(data)\n",
        "        if self.head is None:\n",
        "            self.head = new_node\n",
        "            return\n",
        "        last = self.head\n",
        "        while last.next:\n",
        "            last = last.next\n",
        "        last.next = new_node\n",
        "\n",
        "    def prepend(self, data):\n",
        "        new_node = Node(data)\n",
        "        new_node.next = self.head\n",
        "        self.head = new_node\n",
        "\n",
        "    def delete_with_value(self, data):\n",
        "        if self.head is None:\n",
        "            return\n",
        "\n",
        "        if self.head.data == data:\n",
        "            self.head = self.head.next\n",
        "            return\n",
        "\n",
        "        current = self.head\n",
        "        while current.next:\n",
        "            if current.next.data == data:\n",
        "                current.next = current.next.next\n",
        "                return\n",
        "            current = current.next\n",
        "\n",
        "    def insert_after_value(self, prev_data, data):\n",
        "        current = self.head\n",
        "        while current:\n",
        "            if current.data == prev_data:\n",
        "                new_node = Node(data)\n",
        "                new_node.next = current.next\n",
        "                current.next = new_node\n",
        "                return\n",
        "            current = current.next\n",
        "\n",
        "    # Método para reverter a lista ligada\n",
        "    def reverse(self):\n",
        "        prev = None\n",
        "        current = self.head\n",
        "        while current:\n",
        "            next_node = current.next\n",
        "            current.next = prev\n",
        "            prev = current\n",
        "            current = next_node\n",
        "        self.head = prev\n",
        "\n",
        "    def print_list(self):\n",
        "        current = self.head\n",
        "        while current:\n",
        "            print(current.data, end=\" -> \")\n",
        "            current = current.next\n",
        "        print(\"None\")\n",
        "\n",
        "# Exemplo de uso\n",
        "ll = LinkedList()\n",
        "ll.append(1)\n",
        "ll.append(2)\n",
        "ll.append(3)\n",
        "ll.reverse()  # Reverte a lista\n",
        "ll.print_list()  # Mostra \"3 -> 2 -> 1 -> None\""
      ],
      "metadata": {
        "colab": {
          "base_uri": "https://localhost:8080/"
        },
        "id": "oCpw__X8PyjQ",
        "outputId": "72fdd4fc-4141-4a9a-8210-0ffcf1a0ab76"
      },
      "execution_count": 14,
      "outputs": [
        {
          "output_type": "stream",
          "name": "stdout",
          "text": [
            "3 -> 2 -> 1 -> None\n"
          ]
        }
      ]
    },
    {
      "cell_type": "code",
      "source": [
        "# Encontrando o Comprimento da Lista Ligada\n",
        "\n",
        "# Continuando a partir do exemplo anterior\n",
        "\n",
        "class LinkedList:\n",
        "    def __init__(self):\n",
        "        self.head = None\n",
        "\n",
        "    def append(self, data):\n",
        "        new_node = Node(data)\n",
        "        if self.head is None:\n",
        "            self.head = new_node\n",
        "            return\n",
        "        last = self.head\n",
        "        while last.next:\n",
        "            last = last.next\n",
        "        last.next = new_node\n",
        "\n",
        "    def prepend(self, data):\n",
        "        new_node = Node(data)\n",
        "        new_node.next = self.head\n",
        "        self.head = new_node\n",
        "\n",
        "    def delete_with_value(self, data):\n",
        "        if self.head is None:\n",
        "            return\n",
        "\n",
        "        if self.head.data == data:\n",
        "            self.head = self.head.next\n",
        "            return\n",
        "\n",
        "        current = self.head\n",
        "        while current.next:\n",
        "            if current.next.data == data:\n",
        "                current.next = current.next.next\n",
        "                return\n",
        "            current = current.next\n",
        "\n",
        "    def insert_after_value(self, prev_data, data):\n",
        "        current = self.head\n",
        "        while current:\n",
        "            if current.data == prev_data:\n",
        "                new_node = Node(data)\n",
        "                new_node.next = current.next\n",
        "                current.next = new_node\n",
        "                return\n",
        "            current = current.next\n",
        "\n",
        "    def reverse(self):\n",
        "        prev = None\n",
        "        current = self.head\n",
        "        while current:\n",
        "            next_node = current.next\n",
        "            current.next = prev\n",
        "            prev = current\n",
        "            current = next_node\n",
        "        self.head = prev\n",
        "\n",
        "    # Método para encontrar o\n",
        "\n",
        "#  comprimento da lista ligada\n",
        "    def length(self):\n",
        "        count = 0\n",
        "        current = self.head\n",
        "        while current:\n",
        "            count += 1\n",
        "            current = current.next\n",
        "        return count\n",
        "\n",
        "    def print_list(self):\n",
        "        current = self.head\n",
        "        while current:\n",
        "            print(current.data, end=\" -> \")\n",
        "            current = current.next\n",
        "        print(\"None\")\n",
        "\n",
        "# Exemplo de uso\n",
        "ll = LinkedList()\n",
        "ll.append(1)\n",
        "ll.append(2)\n",
        "ll.append(3)\n",
        "print(ll.length())  # Mostra \"3\""
      ],
      "metadata": {
        "colab": {
          "base_uri": "https://localhost:8080/"
        },
        "id": "HA_nklDyP17F",
        "outputId": "ea93c52d-beb4-4725-b892-c11a3a245f86"
      },
      "execution_count": 17,
      "outputs": [
        {
          "output_type": "stream",
          "name": "stdout",
          "text": [
            "3\n"
          ]
        }
      ]
    }
  ]
}