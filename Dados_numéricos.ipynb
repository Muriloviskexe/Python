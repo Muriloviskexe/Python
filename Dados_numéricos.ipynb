{
  "nbformat": 4,
  "nbformat_minor": 0,
  "metadata": {
    "colab": {
      "provenance": [],
      "authorship_tag": "ABX9TyMRcKvxgLcpgNGiBvXPhQtN",
      "include_colab_link": true
    },
    "kernelspec": {
      "name": "python3",
      "display_name": "Python 3"
    },
    "language_info": {
      "name": "python"
    }
  },
  "cells": [
    {
      "cell_type": "markdown",
      "metadata": {
        "id": "view-in-github",
        "colab_type": "text"
      },
      "source": [
        "<a href=\"https://colab.research.google.com/github/Muriloviskexe/Python/blob/main/Dados_num%C3%A9ricos.ipynb\" target=\"_parent\"><img src=\"https://colab.research.google.com/assets/colab-badge.svg\" alt=\"Open In Colab\"/></a>"
      ]
    },
    {
      "cell_type": "code",
      "source": [
        "print('Olá Mundo!')"
      ],
      "metadata": {
        "colab": {
          "base_uri": "https://localhost:8080/"
        },
        "id": "Za0miNMIgXDZ",
        "outputId": "052fe8b8-2b3d-4c65-d0e9-67c47c35a89e"
      },
      "execution_count": null,
      "outputs": [
        {
          "output_type": "stream",
          "name": "stdout",
          "text": [
            "Olá Mundo!\n"
          ]
        }
      ]
    },
    {
      "cell_type": "code",
      "source": [
        "#Operações comuns com numéricos\n",
        "#int = inteiro | float = decimal | long = numeros longos | complex = numeros complexos\n",
        "\n",
        "x = 3\n",
        "print(type(x))\n",
        "print(3)\n",
        "print(3+1)\n",
        "print(3-1)\n",
        "print(x*2)\n",
        "print(x**2)\n",
        "\n",
        "x+=1\n",
        "print(x)\n",
        "\n",
        "x*=2\n",
        "print(x)\n",
        "\n",
        "y=2.5\n",
        "print(type(y))\n",
        "print(y, y+1, y*2, y**2)"
      ],
      "metadata": {
        "colab": {
          "base_uri": "https://localhost:8080/"
        },
        "id": "XUtxSR8sgaZi",
        "outputId": "821ab29a-68d9-410b-d9b0-bf02041d50cb"
      },
      "execution_count": null,
      "outputs": [
        {
          "output_type": "stream",
          "name": "stdout",
          "text": [
            "<class 'int'>\n",
            "3\n",
            "4\n",
            "2\n",
            "6\n",
            "9\n",
            "4\n",
            "8\n",
            "<class 'float'>\n",
            "2.5 3.5 5.0 6.25\n"
          ]
        }
      ]
    },
    {
      "cell_type": "code",
      "source": [
        "#Operações com numeros complexos\n",
        "\n",
        "z= 2 + 3j\n",
        "print(type(z))\n",
        "print(z)\n",
        "print(z.real)\n",
        "print(z.imag)\n",
        "print(z+1)\n",
        "print(z*2)\n",
        "print(z**2)\n"
      ],
      "metadata": {
        "colab": {
          "base_uri": "https://localhost:8080/"
        },
        "id": "tPUyLoJChMXr",
        "outputId": "15d6f3f3-e854-4ce0-ab25-c820edd97675"
      },
      "execution_count": null,
      "outputs": [
        {
          "output_type": "stream",
          "name": "stdout",
          "text": [
            "<class 'complex'>\n",
            "(2+3j)\n",
            "2.0\n",
            "3.0\n",
            "(3+3j)\n",
            "(4+6j)\n",
            "(-5+12j)\n"
          ]
        }
      ]
    },
    {
      "cell_type": "code",
      "source": [
        "#Operações com números inteiros e módulo\n",
        "\n",
        "a=7\n",
        "b=3\n",
        "print(a//b)\n",
        "print(a%b)\n",
        "print(divmod(a,b))\n",
        "print(a**b)"
      ],
      "metadata": {
        "colab": {
          "base_uri": "https://localhost:8080/"
        },
        "id": "jEli-uAeiLNC",
        "outputId": "c203fb1d-7dc3-413f-9c38-a5d004b08b4c"
      },
      "execution_count": null,
      "outputs": [
        {
          "output_type": "stream",
          "name": "stdout",
          "text": [
            "2\n",
            "1\n",
            "(2, 1)\n",
            "343\n"
          ]
        }
      ]
    },
    {
      "cell_type": "code",
      "source": [
        "#Funções matemáticas da biblioteca\n",
        "\n",
        "import math\n",
        "\n",
        "x=16\n",
        "print(math.sqrt(x))\n",
        "print(math.log(x,2))\n",
        "print(math.factorial(5))\n",
        "print(math.pi)"
      ],
      "metadata": {
        "colab": {
          "base_uri": "https://localhost:8080/"
        },
        "id": "VlwsIQILi2_t",
        "outputId": "06c1d16f-033f-46d6-dfb2-9d594ac2d570"
      },
      "execution_count": null,
      "outputs": [
        {
          "output_type": "stream",
          "name": "stdout",
          "text": [
            "4.0\n",
            "4.0\n",
            "120\n",
            "3.141592653589793\n"
          ]
        }
      ]
    },
    {
      "cell_type": "code",
      "source": [],
      "metadata": {
        "id": "YQxVA0BtjoTG"
      },
      "execution_count": null,
      "outputs": []
    }
  ]
}