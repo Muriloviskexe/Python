{
  "nbformat": 4,
  "nbformat_minor": 0,
  "metadata": {
    "colab": {
      "provenance": [],
      "authorship_tag": "ABX9TyNxLdJf+iSG1Q4N+cfD8gbz",
      "include_colab_link": true
    },
    "kernelspec": {
      "name": "python3",
      "display_name": "Python 3"
    },
    "language_info": {
      "name": "python"
    }
  },
  "cells": [
    {
      "cell_type": "markdown",
      "metadata": {
        "id": "view-in-github",
        "colab_type": "text"
      },
      "source": [
        "<a href=\"https://colab.research.google.com/github/Muriloviskexe/Python/blob/main/Estrutura_de_Dados_(listas).ipynb\" target=\"_parent\"><img src=\"https://colab.research.google.com/assets/colab-badge.svg\" alt=\"Open In Colab\"/></a>"
      ]
    },
    {
      "cell_type": "code",
      "execution_count": 2,
      "metadata": {
        "colab": {
          "base_uri": "https://localhost:8080/"
        },
        "id": "BCoUMGb-mP44",
        "outputId": "0b181e5f-5b04-4924-c1a4-d35c57457aff"
      },
      "outputs": [
        {
          "output_type": "stream",
          "name": "stdout",
          "text": [
            "1\n",
            "quatro\n",
            "5.6\n"
          ]
        }
      ],
      "source": [
        "#Criando e Acessando Elementos em uma Lista\n",
        "\n",
        "#criar lista\n",
        "minha_lista = [1, 2, 3, \"quatro\", True, 5.6]\n",
        "\n",
        "#acessar elementos da lista\n",
        "print(minha_lista[0])\n",
        "print(minha_lista[3])\n",
        "\n",
        "#acessa ultimo elemento\n",
        "print(minha_lista[-1])"
      ]
    },
    {
      "cell_type": "code",
      "source": [
        "#Modificando Elementos em uma Lista\n",
        "\n",
        "numeros = [11, 22, 33, 44, 55]\n",
        "\n",
        "#modificar elemento\n",
        "numeros[1] = 23\n",
        "print(numeros)\n",
        "\n",
        "#adicionar elemento\n",
        "numeros.append(66)\n",
        "print(numeros)\n",
        "\n",
        "#adicionando elemento em posição especifica\n",
        "numeros.insert(3, 34)\n",
        "print(numeros)\n",
        "\n"
      ],
      "metadata": {
        "colab": {
          "base_uri": "https://localhost:8080/"
        },
        "id": "PTkAao-fm-DE",
        "outputId": "af19cabf-f72c-47b8-ba40-57e914c24b6b"
      },
      "execution_count": 12,
      "outputs": [
        {
          "output_type": "stream",
          "name": "stdout",
          "text": [
            "[11, 23, 33, 44, 55]\n",
            "[11, 23, 33, 44, 55, 66]\n",
            "[11, 23, 33, 34, 44, 55, 66]\n"
          ]
        }
      ]
    },
    {
      "cell_type": "code",
      "source": [
        "#Removendo Elementos de uma Lista\n",
        "\n",
        "frutas = ['maça', 'banana', 'cereja', 'laranja', 'melancia']\n",
        "\n",
        "#remover valor\n",
        "frutas.remove('banana')\n",
        "print(frutas)\n",
        "\n",
        "#remover indice\n",
        "fruta_removida = frutas.pop(2)\n",
        "print(fruta_removida)\n",
        "print(frutas)\n",
        "\n",
        "#remover ultimo valor\n",
        "frutas.pop()\n",
        "print(frutas)\n",
        "\n",
        "#limpar lista\n",
        "frutas.clear()\n",
        "print(frutas)  # Mostra \"[]\""
      ],
      "metadata": {
        "colab": {
          "base_uri": "https://localhost:8080/"
        },
        "id": "tROV7fRYoEoC",
        "outputId": "a125fb4b-59a8-4a9c-af02-97e52d3a0a6b"
      },
      "execution_count": 15,
      "outputs": [
        {
          "output_type": "stream",
          "name": "stdout",
          "text": [
            "['maça', 'cereja', 'laranja', 'melancia']\n",
            "laranja\n",
            "['maça', 'cereja', 'melancia']\n",
            "['maça', 'cereja']\n",
            "[]\n"
          ]
        }
      ]
    },
    {
      "cell_type": "code",
      "source": [
        "#Iterando sobre uma Lista\n",
        "\n",
        "animais = ['gato', 'cachorro', 'coelho']\n",
        "\n",
        "#iterar sobre a lista\n",
        "for animal in animais:\n",
        "    print(animal)\n"
      ],
      "metadata": {
        "colab": {
          "base_uri": "https://localhost:8080/"
        },
        "id": "BRUXU2rXpLCB",
        "outputId": "f55abeca-25cf-4e5e-814d-64b1499348e8"
      },
      "execution_count": 19,
      "outputs": [
        {
          "output_type": "stream",
          "name": "stdout",
          "text": [
            "gato\n",
            "cachorro\n",
            "coelho\n"
          ]
        }
      ]
    },
    {
      "cell_type": "code",
      "source": [
        "#Compreensão de Listas (List Comprehension)\n",
        "\n",
        "numeros = [1, 2, 3, 4, 5, 6]\n",
        "\n",
        "#nova lista com os quadrados dos numeros\n",
        "quadrados = [x**2 for x in numeros]\n",
        "print(numeros)\n",
        "print(quadrados)\n",
        "\n",
        "#filtrar pares\n",
        "pares = {x for x in numeros if x % 2 == 0}\n",
        "print(pares)\n"
      ],
      "metadata": {
        "colab": {
          "base_uri": "https://localhost:8080/"
        },
        "id": "ugME7ZjXpfcl",
        "outputId": "a34bbf4a-b9d6-4966-962c-f06a81b67400"
      },
      "execution_count": 24,
      "outputs": [
        {
          "output_type": "stream",
          "name": "stdout",
          "text": [
            "[1, 2, 3, 4, 5, 6]\n",
            "[1, 4, 9, 16, 25, 36]\n",
            "{2, 4, 6}\n"
          ]
        }
      ]
    },
    {
      "cell_type": "code",
      "source": [
        "#Ordenando uma Lista\n",
        "\n",
        "numeros = [3, 1, 4, 1, 5, 9, 2, 6, 5]\n",
        "\n",
        "numeros.sort()\n",
        "print(numeros)\n",
        "\n",
        "numeros.sort(reverse=True)\n",
        "print(numeros)"
      ],
      "metadata": {
        "colab": {
          "base_uri": "https://localhost:8080/"
        },
        "id": "FZ6Rq-eaqLf4",
        "outputId": "77f083fd-52d1-4a16-b20b-bbd6d7bdfe97"
      },
      "execution_count": 27,
      "outputs": [
        {
          "output_type": "stream",
          "name": "stdout",
          "text": [
            "[1, 1, 2, 3, 4, 5, 5, 6, 9]\n",
            "[9, 6, 5, 5, 4, 3, 2, 1, 1]\n"
          ]
        }
      ]
    },
    {
      "cell_type": "code",
      "source": [
        "#Funções de Agregação em Listas\n",
        "\n",
        "numeros = [10, 20, 30, 40, 50]\n",
        "\n",
        "print(max(numeros))\n",
        "print(min(numeros))\n",
        "print(sum(numeros))\n",
        "print(len(numeros))"
      ],
      "metadata": {
        "colab": {
          "base_uri": "https://localhost:8080/"
        },
        "id": "wytGpeP4q6qi",
        "outputId": "ce9070cf-c42c-454c-e37a-66489e51a022"
      },
      "execution_count": 31,
      "outputs": [
        {
          "output_type": "stream",
          "name": "stdout",
          "text": [
            "50\n",
            "10\n",
            "150\n",
            "5\n"
          ]
        }
      ]
    }
  ]
}